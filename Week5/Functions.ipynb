{
 "cells": [
  {
   "cell_type": "markdown",
   "metadata": {},
   "source": [
    "# Functions \n",
    "\n",
    "Writing the same code over and over again is both tedious and allows errors to creep into the code.  *Functions* are one of the ways Python allows for creating reusable code blocks.  Functions in computer programming are similar to functions in mathematics in that they take in one to many inputs and return an output.  In this lesson, we will learn how to rewrite our code from the previous lesson into reusable functions. \n",
    "\n",
    "## Assigned Reading and Viewing\n",
    "\n",
    "Read Chapters 16 to 18 in *Learning Python*"
   ]
  }
 ],
 "metadata": {
  "kernelspec": {
   "display_name": "Python 3",
   "language": "python",
   "name": "python3"
  },
  "language_info": {
   "codemirror_mode": {
    "name": "ipython",
    "version": 3
   },
   "file_extension": ".py",
   "mimetype": "text/x-python",
   "name": "python",
   "nbconvert_exporter": "python",
   "pygments_lexer": "ipython3",
   "version": "3.6.1"
  }
 },
 "nbformat": 4,
 "nbformat_minor": 2
}

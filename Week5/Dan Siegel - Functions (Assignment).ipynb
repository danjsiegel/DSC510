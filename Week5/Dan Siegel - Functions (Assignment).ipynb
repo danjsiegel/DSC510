{
 "cells": [
  {
   "cell_type": "markdown",
   "metadata": {},
   "source": [
    "# Dan Siegel\n",
    "## 4/14/18\n",
    "### DSC510-T301_2185_1: DSC510-T301 Introduction to Programming (2185-1)"
   ]
  },
  {
   "cell_type": "markdown",
   "metadata": {},
   "source": [
    "# Assignment 5 - Functions\n",
    "\n",
    "## Instructions\n",
    "\n",
    "In this assignment, we will continue parsing the `avengers.csv` dataset by implementing functions. As a first step, copy the `avengers_utf8.csv` file from the previous project into your working folder. Open the file and assign the contents of the file to the variable the `lines` variable.  \n",
    "\n",
    "Follow the instructions for submitting a Jupyter Notebook assignment in the submitting assignments documentation. "
   ]
  },
  {
   "cell_type": "code",
   "execution_count": 1,
   "metadata": {},
   "outputs": [],
   "source": [
    "avengers = open(r'C:\\Users\\Dan Siegel\\Desktop\\Classes\\DSC510\\Week3\\avengers_utf8.csv','r')\n",
    "lines = avengers.readlines()\n",
    "avengers.close()"
   ]
  },
  {
   "cell_type": "markdown",
   "metadata": {},
   "source": [
    "## 1.  Line to Row Function (5 Points)\n",
    "\n",
    "To start, we select a single line from the `lines` list.  Select the 9th value in the list and assign it to the variable `example_line`.  This should be the line representing the record for Clint Barton.  We want to create a function called `line_to_row` that takes each line as input and converts it into a list of values. \n",
    "\n",
    "Create a simple function called `line_to_row` that takes one argument as an input and returns a list of values. Demonstrate its use on `example_line`. Assign the output of the function to `example_row`. "
   ]
  },
  {
   "cell_type": "code",
   "execution_count": 2,
   "metadata": {},
   "outputs": [
    {
     "name": "stdout",
     "output_type": "stream",
     "text": [
      "['http://marvel.wikia.com/Clint_Barton_(Earth-616)', 'Clinton Francis Barton', '1456', 'YES', 'MALE', '', 'May-65', '1965', '50', 'Full', 'YES', 'YES', 'YES', 'YES', '', '', '', '', '', '', 'Dies in exploding Kree ship in Averngers Vol. 1  Issue 502. Brought back by Scarlet Witch. Dies again in House of M Vol 1 Issue 7. Is later brought back. \\n']\n"
     ]
    }
   ],
   "source": [
    "example_line=lines[8]\n",
    "def line_to_row(lineToParse):\n",
    "    parsed = lineToParse.split(',')\n",
    "    return parsed\n",
    "example_row = line_to_row(example_line)\n",
    "print(example_row)"
   ]
  },
  {
   "cell_type": "markdown",
   "metadata": {},
   "source": [
    "## 2. Row to Record Function (5 Points)\n",
    "\n",
    "The next stage involves creating a function to convert a row to a dictionary record.  This function takes two arguments, the row, and the header values. \n",
    "\n",
    "Create a simple function called `row_to_record` that takes two arguments, `row` and `fields`. Return a dictionary where the fields provide the dictionary keys, and the row provides the values. Demonstrate the use of the function on `example_row` where the field names come from the first row of the input file.  Assign the output of the function to `example_record`.  "
   ]
  },
  {
   "cell_type": "code",
   "execution_count": 3,
   "metadata": {},
   "outputs": [
    {
     "name": "stdout",
     "output_type": "stream",
     "text": [
      "{'URL': 'http://marvel.wikia.com/Clint_Barton_(Earth-616)', 'Name/Alias': 'Clinton Francis Barton', 'Appearances': '1456', 'Current?': 'YES', 'Gender': 'MALE', 'Probationary Introl': '', 'Full/Reserve Avengers Intro': 'May-65', 'Year': '1965', 'Years since joining': '50', 'Honorary': 'Full', 'Death1': 'YES', 'Return1': 'YES', 'Death2': 'YES', 'Return2': 'YES', 'Death3': '', 'Return3': '', 'Death4': '', 'Return4': '', 'Death5': '', 'Return5': '', 'Notes\\n': 'Dies in exploding Kree ship in Averngers Vol. 1  Issue 502. Brought back by Scarlet Witch. Dies again in House of M Vol 1 Issue 7. Is later brought back. \\n'}\n"
     ]
    }
   ],
   "source": [
    "header = lines[0].split(',')\n",
    "def row_to_record(row, fields):\n",
    "    record={}\n",
    "    for columnNo in range(len(fields)):\n",
    "        record[(fields[columnNo])]=row[columnNo]\n",
    "    return record\n",
    "example_record = row_to_record(example_row, header)\n",
    "print(example_record)"
   ]
  },
  {
   "cell_type": "markdown",
   "metadata": {},
   "source": [
    "## 3. Python friendly field names (6 Points)\n",
    "\n",
    "In the last example, we used the header names as they appear in the original CSV.  It contains names like `Current?`, `Full/Reserve Avengers Intro`, and `Notes\\n`. While these are acceptable names for Python dictionary keys, they are not valid names for Python identifiers. We want to change those names into Python-friendly names. \n",
    "\n",
    "a\\. Create a function called `make_nice_name` that takes in a name as an argument and returns a Python-friendly name that follows the following rules. \n",
    "\n",
    "1. Remove question marks\n",
    "2. Strip trailing newline characters\n",
    "3. Replace spaces and slashes with the underscore character\n",
    "4. Make sure the returned name is in all lower case letters\n",
    "\n",
    "Use this function to create a new list of field names and assign it to the variable `nice_fields`. \n",
    "\n",
    "b\\. Use the newly created `nice_fields` and the `row_to_record` function to create a `nice_example_record` containing the nice field names. "
   ]
  },
  {
   "cell_type": "code",
   "execution_count": 4,
   "metadata": {},
   "outputs": [
    {
     "name": "stdout",
     "output_type": "stream",
     "text": [
      "['url', 'name_alias', 'appearances', 'current', 'gender', 'probationary introl', 'full_reserve avengers intro', 'year', 'years since joining', 'honorary', 'death1', 'return1', 'death2', 'return2', 'death3', 'return3', 'death4', 'return4', 'death5', 'return5', 'notes']\n"
     ]
    }
   ],
   "source": [
    "def make_nice_name(headerToFix):\n",
    "    fixedHeader=[]\n",
    "    for category in headerToFix:\n",
    "        corr_category = category.lower()\n",
    "        corr_category = corr_category.strip('\\n').strip('?').rstrip().lstrip()\n",
    "        corr_category = corr_category.replace('/','_')\n",
    "        fixedHeader.append(corr_category)\n",
    "    return fixedHeader\n",
    "nice_fields = make_nice_name(header)\n",
    "print(nice_fields)"
   ]
  },
  {
   "cell_type": "code",
   "execution_count": 5,
   "metadata": {},
   "outputs": [
    {
     "name": "stdout",
     "output_type": "stream",
     "text": [
      "{'url': 'http://marvel.wikia.com/Clint_Barton_(Earth-616)', 'name_alias': 'Clinton Francis Barton', 'appearances': '1456', 'current': 'YES', 'gender': 'MALE', 'probationary introl': '', 'full_reserve avengers intro': 'May-65', 'year': '1965', 'years since joining': '50', 'honorary': 'Full', 'death1': 'YES', 'return1': 'YES', 'death2': 'YES', 'return2': 'YES', 'death3': '', 'return3': '', 'death4': '', 'return4': '', 'death5': '', 'return5': '', 'notes': 'Dies in exploding Kree ship in Averngers Vol. 1  Issue 502. Brought back by Scarlet Witch. Dies again in House of M Vol 1 Issue 7. Is later brought back. \\n'}\n"
     ]
    }
   ],
   "source": [
    "nice_example_record = row_to_record(example_row, nice_fields)\n",
    "print(nice_example_record)"
   ]
  },
  {
   "cell_type": "markdown",
   "metadata": {},
   "source": [
    "## 4. Conversion and cleaning functions (9 Points)\n",
    "\n",
    "The record values are still strings.  It is much easier if we work with native Python types. Additionally, the `notes` field contains a trailing newline that we would like to remove. You will use `nice_example_record` when testing these functions.\n",
    "\n",
    "a\\. Create a `to_int` function that takes in a single `value` as an argument and returns an integer version of that value.  Test it out on the integer fields of the input record. \n",
    "\n",
    "b\\. Create a `to_bool` function that takes in a single `value` as an argument and returns a boolean version of that value.  Test the function on various string based inputs including the empty string.  Test it out on the boolean fields (i.e., the ones containing YES/NO values). Make sure it returns `None` if the input is an empty string. \n",
    "\n",
    "c\\. Create a `clean_notes` function that takes in a single `value` as an argument that strips off the trailing newline characters. "
   ]
  },
  {
   "cell_type": "code",
   "execution_count": 6,
   "metadata": {
    "collapsed": true
   },
   "outputs": [],
   "source": [
    "def to_int(stringToMakeInt):\n",
    "    return int(stringToMakeInt)\n",
    "def to_bool(stringToMakeBool):\n",
    "    stringToMakeBool=stringToMakeBool.lower()\n",
    "    if stringToMakeBool == \"yes\":\n",
    "        return True\n",
    "    elif stringToMakeBool == \"no\":\n",
    "        return False\n",
    "    else:\n",
    "        return None\n",
    "def clean_notes(notesToClean):\n",
    "    return notesToClean.strip('\\n')"
   ]
  },
  {
   "cell_type": "code",
   "execution_count": 7,
   "metadata": {},
   "outputs": [
    {
     "name": "stdout",
     "output_type": "stream",
     "text": [
      "testing to int:  1456\n",
      "testing to bool:  True\n",
      "testing to clean notes:  Dies in exploding Kree ship in Averngers Vol. 1  Issue 502. Brought back by Scarlet Witch. Dies again in House of M Vol 1 Issue 7. Is later brought back. \n"
     ]
    }
   ],
   "source": [
    "print('testing to int: ',to_int(nice_example_record['appearances']))\n",
    "print('testing to bool: ',to_bool(nice_example_record['death1']))\n",
    "print('testing to clean notes: ',clean_notes(nice_example_record['notes']))"
   ]
  },
  {
   "cell_type": "markdown",
   "metadata": {},
   "source": [
    "## 5.  Transform record function (10 Points)\n",
    "\n",
    "Create a function called `transform_record` that takes in a record dictionary and returns a transformed record according to the following rules. \n",
    "\n",
    "1.  Convert the `year` and `appearances` fields to integer values \n",
    "2.  If the field starts with `death` or `return`, convert it to a boolean value\n",
    "3.  Clean the `notes` fields by stripping the newline\n",
    "4.  Calculate a new `years_since_joining` field by calculating the difference between the `year` field and the current year.  For now, feel free to hardcode the current year.  (i.e. current_year=20xx). \n",
    "\n",
    "Test the `transform_record` function on `nice_example_record` and assign the result to `transformed_record`. "
   ]
  },
  {
   "cell_type": "code",
   "execution_count": 8,
   "metadata": {},
   "outputs": [],
   "source": [
    "def transform_record(recordToTransform):\n",
    "    newRecord = {}\n",
    "    for keys in recordToTransform:\n",
    "        if keys == 'appearances' or keys == 'year':\n",
    "            newRecord[keys]=to_int(recordToTransform[keys])\n",
    "        elif keys == 'current' or keys.startswith('return') or keys.startswith('death'):\n",
    "            newRecord[keys]=to_bool(recordToTransform[keys])\n",
    "        elif keys == 'notes':\n",
    "            newRecord[keys]=clean_notes(recordToTransform[keys])\n",
    "        elif keys == 'years since joining':\n",
    "            newRecord[keys] = (2018 - to_int(recordToTransform['year']))\n",
    "        else:\n",
    "            newRecord[keys]=recordToTransform[keys]\n",
    "    return newRecord\n",
    "transformed_record = transform_record(nice_example_record)"
   ]
  },
  {
   "cell_type": "code",
   "execution_count": 9,
   "metadata": {},
   "outputs": [
    {
     "name": "stdout",
     "output_type": "stream",
     "text": [
      "<class 'int'>\n",
      "<class 'bool'>\n",
      "<class 'int'> 53\n"
     ]
    }
   ],
   "source": [
    "print(type(transformed_record['appearances']))\n",
    "print(type(transformed_record['current']))\n",
    "print(type(transformed_record['years since joining']), (transformed_record['years since joining']))"
   ]
  },
  {
   "cell_type": "markdown",
   "metadata": {},
   "source": [
    "## 6. Inline record transformation (5 Points)\n",
    "\n",
    "Create a new function called `transform_record_inline` .  It takes the same argument as the `transform_record` function but does not return a new record.  Instead, it changes the input `record` dictionary.  Feel free to reuse/repurpose the `transform_record` code as you see fit. Demonstrate this function on `nice_example_record`. "
   ]
  },
  {
   "cell_type": "code",
   "execution_count": 10,
   "metadata": {
    "collapsed": true
   },
   "outputs": [],
   "source": [
    "def transform_record_inline(recordToTransform):\n",
    "    for keys in recordToTransform:\n",
    "        if keys == 'appearances' or keys == 'year':\n",
    "            recordToTransform[keys]=to_int(recordToTransform[keys])\n",
    "        if keys == 'current' or keys.startswith('return') or keys.startswith('death'):\n",
    "            recordToTransform[keys]=to_bool(recordToTransform[keys])\n",
    "        if keys == 'notes':\n",
    "            recordToTransform[keys]=clean_notes(recordToTransform[keys])\n",
    "        if keys == 'years since joining':\n",
    "            recordToTransform[keys] = (2018 - to_int(recordToTransform['year']))\n",
    "transform_record_inline(nice_example_record)"
   ]
  },
  {
   "cell_type": "code",
   "execution_count": 11,
   "metadata": {},
   "outputs": [
    {
     "name": "stdout",
     "output_type": "stream",
     "text": [
      "{'url': 'http://marvel.wikia.com/Clint_Barton_(Earth-616)', 'name_alias': 'Clinton Francis Barton', 'appearances': 1456, 'current': True, 'gender': 'MALE', 'probationary introl': '', 'full_reserve avengers intro': 'May-65', 'year': 1965, 'years since joining': 53, 'honorary': 'Full', 'death1': True, 'return1': True, 'death2': True, 'return2': True, 'death3': None, 'return3': None, 'death4': None, 'return4': None, 'death5': None, 'return5': None, 'notes': 'Dies in exploding Kree ship in Averngers Vol. 1  Issue 502. Brought back by Scarlet Witch. Dies again in House of M Vol 1 Issue 7. Is later brought back. '}\n"
     ]
    }
   ],
   "source": [
    "print(nice_example_record)"
   ]
  }
 ],
 "metadata": {
  "kernelspec": {
   "display_name": "Python 3",
   "language": "python",
   "name": "python3"
  },
  "language_info": {
   "codemirror_mode": {
    "name": "ipython",
    "version": 3
   },
   "file_extension": ".py",
   "mimetype": "text/x-python",
   "name": "python",
   "nbconvert_exporter": "python",
   "pygments_lexer": "ipython3",
   "version": "3.6.4"
  }
 },
 "nbformat": 4,
 "nbformat_minor": 2
}

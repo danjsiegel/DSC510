{
 "cells": [
  {
   "cell_type": "markdown",
   "metadata": {},
   "source": [
    "# Assignment 9 - Exceptions and Testing\n",
    "\n",
    "## Instructions \n",
    "\n",
    "Starting from your local repository's `master` branch, create a branch called `exceptions-and-testing`.  This is branch you will use to complete this assignment.  You will submit this branch as a pull request and use the pull request review feature to have others review your assignment.  You will merge this branch into the `master` branch once you have completed the assignment. If you have additional questions, follow the instructions for submitting a Github repository in the *Submitting Assignments* document.  This assignment uses code reviews, so make sure you have two people review your code. \n",
    "\n",
    "At the end of this assignment, you will submit two files, one called `util.py` contains the implementation of the the utility functions described below, and one called `test_util.py` that implements the unit tests for those functions.  Add these files to `msds510` repository you created in an earlier assignment. The `test_util.py` file should contain a `if __name__ == '__main__'` statement that runs the unit tests when run as a script. Use Python's `unittest` framework and use a single `TestCase` for all of the unit tests. \n"
   ]
  },
  {
   "cell_type": "markdown",
   "metadata": {},
   "source": [
    "## 1.  Integer conversion function (4 Points)\n",
    "\n",
    "Create an integer conversion function `to_int` that converts an input value into an integer. If the function cannot convert the input value, it should return `None`.  This function should only use exceptions and not `if/elif/else` statements or type checking. "
   ]
  },
  {
   "cell_type": "markdown",
   "metadata": {},
   "source": [
    "## 2. Get value from sequence (8 Points)\n",
    "\n",
    "Create a function called `get_value` that takes as arguments a series of items and a value. If the items are a list or tuple, the function should return the integer index of where the value is in the sequence.  If the items are a dictionary, it should return the value associated with the input key.  The function should return `None` if no value is found. \n",
    "\n",
    "This function should only use exceptions and not `if/elif/else` statements or type checking. Below is an example of the expected output from this function. \n",
    "\n",
    "```python\n",
    "In [1]:  x = {'a': 1, 'b': 52, 'd': 6}\n",
    "         y = ['a', 'c', 'd']\n",
    "\n",
    "         print(get_value(x, 'q'))\n",
    "    \n",
    "Out[1]:  None\n",
    " \n",
    "In [2]:  print(get_value(x, 'a'))\n",
    "Out[2]:  1\n",
    "    \n",
    "In [3]:  print(get_value(x, 'b'))\n",
    "Out[3]:  52\n",
    "    \n",
    "In [4]:  print(get_value(y, 'b'))\n",
    "Out[4]:  None\n",
    "    \n",
    "In [5]:  print(get_value(y, 'd'))\n",
    "Out[5]:  2\n",
    "```"
   ]
  },
  {
   "cell_type": "markdown",
   "metadata": {},
   "source": [
    "## 3. Unit Tests"
   ]
  },
  {
   "cell_type": "markdown",
   "metadata": {},
   "source": [
    "### 3.1 Unit test script (8 Points)\n",
    "\n",
    "Create script called `test_util.py` which contains a `if __name__ == '__main__'` and implements a `unittest` framework `TestCase`.  "
   ]
  },
  {
   "cell_type": "markdown",
   "metadata": {},
   "source": [
    "### 3.2 Implement Unit Test for `to_int` (3 Points)\n",
    "\n",
    "Write unit tests for the `to_int` function defined in the previous problem. Use a different unit test for testing each type of input (e.g. `test_float_str`, `test_invalid_str`, `test_int_input`). "
   ]
  },
  {
   "cell_type": "markdown",
   "metadata": {},
   "source": [
    "### 3.3  Implement Unit Test for `get_value`  (8 Points)\n",
    "\n",
    "Write unit tests for the `get_value` function defined in the previous problem.  Use the examples provided in the problem as test cases.  As a rule, write a separate unit test for each unique thing you are testing.  As an example, you might have two unit test functions, `test_valid_dict_input` and `test_dict_missing_key`, to test dictionary based inputs. You should also test for valid and missing list inputs. "
   ]
  },
  {
   "cell_type": "markdown",
   "metadata": {},
   "source": [
    "### 3.4  Implement Unit Test for `get_date_joined` (5 Points)\n",
    "\n",
    "Write unit tests for the `get_date_joined` function defined in one of the previous lessons.  Test various input strings and years to make sure it returns the correct date. Also test missing and invalid inputs. "
   ]
  },
  {
   "cell_type": "markdown",
   "metadata": {},
   "source": [
    "## 4. Code Review (4 Points)\n",
    "\n",
    "This assignment requires a code review with two reviewers. "
   ]
  }
 ],
 "metadata": {
  "kernelspec": {
   "display_name": "Python 3",
   "language": "python",
   "name": "python3"
  },
  "language_info": {
   "codemirror_mode": {
    "name": "ipython",
    "version": 3
   },
   "file_extension": ".py",
   "mimetype": "text/x-python",
   "name": "python",
   "nbconvert_exporter": "python",
   "pygments_lexer": "ipython3",
   "version": "3.6.4"
  }
 },
 "nbformat": 4,
 "nbformat_minor": 2
}

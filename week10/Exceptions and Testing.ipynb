{
 "cells": [
  {
   "cell_type": "markdown",
   "metadata": {},
   "source": [
    "# Exceptions and Testing\n",
    "\n",
    "As a programmer and data scientist, you will eventually run into issues with your code, someone else's code, or problems with the underlying data.  Consider the following simple function as an example. \n",
    "\n",
    "```python\n",
    "def compute_average(values):\n",
    "    return sum(values)/len(values)\n",
    "```\n",
    "This function computes the average value from a sequence of numbers.  If you ran `compute_average([1, 3, 4, 6, 8])`, it would return 4.4.  But what happens if you run `compute_average([])`? The sum of the values is `0` since there are no input values, but the length is also `0`.  If you ran this code, you would get a `ZeroDivisionError: division by zero`.  This is one of Python's built-in exception types.  \n",
    "\n",
    "In this lesson, you will learn how to handle these exceptions in such a way that your code will continue to run even if it encounters errors.  You will also learn how to implement *unit tests* to make sure your code is doing what you think it is doing.  "
   ]
  },
  {
   "cell_type": "markdown",
   "metadata": {},
   "source": [
    "## Assigned Reading and Viewing\n",
    "\n",
    "* Browse the official documentation for the Python [Unit testing framework library](https://docs.python.org/3/library/unittest.html)\n",
    "* Read [Testing Your Code](http://docs.python-guide.org/en/latest/writing/tests/) from the *Hitchhiker's Guide to Python*. \n",
    "* Watch [Ned Batchelder: Getting Started Testing - PyCon 2014](https://youtu.be/FxSsnHeWQBY)"
   ]
  }
 ],
 "metadata": {
  "kernelspec": {
   "display_name": "Python 3",
   "language": "python",
   "name": "python3"
  },
  "language_info": {
   "codemirror_mode": {
    "name": "ipython",
    "version": 3
   },
   "file_extension": ".py",
   "mimetype": "text/x-python",
   "name": "python",
   "nbconvert_exporter": "python",
   "pygments_lexer": "ipython3",
   "version": "3.6.4"
  }
 },
 "nbformat": 4,
 "nbformat_minor": 2
}

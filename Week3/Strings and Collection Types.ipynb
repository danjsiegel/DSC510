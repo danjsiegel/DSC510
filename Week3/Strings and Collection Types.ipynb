{
 "cells": [
  {
   "cell_type": "markdown",
   "metadata": {},
   "source": [
    "# String and Collection Data Types\n",
    "\n",
    "Python supports data types other than simple numeric types.  In this lesson, we will cover Python's built-in *string* and *collection* data types.  \n",
    "\n",
    "In Python, a collection is a data type used to hold other data types.  Built-in collections include lists, sets, dictionaries, and tuples.   A string is a special type of collection that contains collections of characters.  As such, collections and strings have many features in common. "
   ]
  },
  {
   "cell_type": "markdown",
   "metadata": {},
   "source": [
    "## Assigned Reading and Viewing\n",
    "\n",
    "* Read Chapters 7 to 9 in Learning Python\n",
    "* Watch [Characters, Symbols and the Unicode Miracle](https://youtu.be/MijmeoH9LT4) to understand the importance of Unicode in encoding character strings. \n",
    "* Read the [README.md](https://github.com/fivethirtyeight/data/tree/master/avengers) for the Avengers dataset used to write the article [Joining The Avengers Is As Deadly As Jumping Off A Four-Story Building](https://fivethirtyeight.com/features/avengers-death-comics-age-of-ultron/). We will be using this dataset throughout the rest of the course.  Additionally, read the article as it provides an example of what you can do with data science. "
   ]
  }
 ],
 "metadata": {
  "kernelspec": {
   "display_name": "Python 3",
   "language": "python",
   "name": "python3"
  },
  "language_info": {
   "codemirror_mode": {
    "name": "ipython",
    "version": 3
   },
   "file_extension": ".py",
   "mimetype": "text/x-python",
   "name": "python",
   "nbconvert_exporter": "python",
   "pygments_lexer": "ipython3",
   "version": "3.6.1"
  }
 },
 "nbformat": 4,
 "nbformat_minor": 2
}

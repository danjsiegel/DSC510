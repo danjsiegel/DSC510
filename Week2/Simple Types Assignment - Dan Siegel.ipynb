{
 "cells": [
  {
   "cell_type": "markdown",
   "metadata": {},
   "source": [
    "# Assignment 2 - Simple Types\n",
    "1. Numeric Operations"
   ]
  },
  {
   "cell_type": "code",
   "execution_count": 2,
   "metadata": {
    "collapsed": true
   },
   "outputs": [],
   "source": [
    "a = 402\n",
    "b = 1855\n",
    "\n",
    "x = 41.151309\n",
    "y = -95.919741"
   ]
  },
  {
   "cell_type": "code",
   "execution_count": 5,
   "metadata": {},
   "outputs": [
    {
     "name": "stdout",
     "output_type": "stream",
     "text": [
      "95.919741\n"
     ]
    }
   ],
   "source": [
    "#a. Compute the absolute value of `y`\n",
    "print(abs(y))"
   ]
  },
  {
   "cell_type": "code",
   "execution_count": 7,
   "metadata": {},
   "outputs": [
    {
     "name": "stdout",
     "output_type": "stream",
     "text": [
      "-22016.909664000003\n"
     ]
    }
   ],
   "source": [
    "#b. Add `x` and `y` and multiple the result by `a`\n",
    "print((x+y)*a)"
   ]
  },
  {
   "cell_type": "code",
   "execution_count": 9,
   "metadata": {},
   "outputs": [
    {
     "name": "stdout",
     "output_type": "stream",
     "text": [
      "247\n"
     ]
    }
   ],
   "source": [
    "#c. Calculate the remainder leftover after dividing `b` by `a` (i.e. `b/a`)\n",
    "print(b%a)"
   ]
  },
  {
   "cell_type": "code",
   "execution_count": 11,
   "metadata": {},
   "outputs": [
    {
     "name": "stdout",
     "output_type": "stream",
     "text": [
      "64964808\n"
     ]
    }
   ],
   "source": [
    "#d. Calculate `a` to the power of `3`\n",
    "print(a**3)"
   ]
  },
  {
   "cell_type": "code",
   "execution_count": 14,
   "metadata": {},
   "outputs": [
    {
     "name": "stdout",
     "output_type": "stream",
     "text": [
      "402.0\n"
     ]
    }
   ],
   "source": [
    "#e. Show how to convert `a` to a floating point number\n",
    "print(float(a))"
   ]
  },
  {
   "cell_type": "code",
   "execution_count": 17,
   "metadata": {},
   "outputs": [
    {
     "name": "stdout",
     "output_type": "stream",
     "text": [
      "-3947.22\n"
     ]
    }
   ],
   "source": [
    "#f. Multiple `x` by `y` and round the result to two signficant digits\n",
    "print(round((x*y),2))"
   ]
  },
  {
   "cell_type": "code",
   "execution_count": 26,
   "metadata": {},
   "outputs": [
    {
     "data": {
      "text/plain": [
       "1983"
      ]
     },
     "execution_count": 26,
     "metadata": {},
     "output_type": "execute_result"
    }
   ],
   "source": [
    "#g. Compute the bitwise *or* of `a` and `b`\n",
    "a|b"
   ]
  },
  {
   "cell_type": "code",
   "execution_count": 21,
   "metadata": {},
   "outputs": [
    {
     "name": "stdout",
     "output_type": "stream",
     "text": [
      "0.4290181413229629\n"
     ]
    }
   ],
   "source": [
    "#h. Compute `x` divided by negative `y` \n",
    "print(x/(-y))"
   ]
  },
  {
   "cell_type": "code",
   "execution_count": 28,
   "metadata": {},
   "outputs": [
    {
     "name": "stdout",
     "output_type": "stream",
     "text": [
      "150.766112958666\n"
     ]
    }
   ],
   "source": [
    "#i. Compute `a` added to `b` divided by `x` minus `y`\n",
    "print(((a+b)/x)-y)"
   ]
  },
  {
   "cell_type": "code",
   "execution_count": 30,
   "metadata": {},
   "outputs": [
    {
     "name": "stdout",
     "output_type": "stream",
     "text": [
      "45.0\n"
     ]
    }
   ],
   "source": [
    "#j. Compute the floored quotient of `b` and `x`\n",
    "print(b//x)"
   ]
  },
  {
   "cell_type": "markdown",
   "metadata": {},
   "source": [
    "--------------------\n",
    "#### 2. Integer Division (2 Points)"
   ]
  },
  {
   "cell_type": "markdown",
   "metadata": {},
   "source": [
    "What is the difference between dividing using the `//` operator and the `/` operator?\n",
    "For instance, what is the difference between `4/2` and `4//2`? "
   ]
  },
  {
   "cell_type": "markdown",
   "metadata": {},
   "source": [
    "The single / is for regular division. It gives you the result (to the best python can calculate) of dividing the 2 numbers together. The // division is known as Floor Division or Integer Division. Flooring Division essentially drops the remainder in division. In 4/2 and 4//2 the difference is not really prounounced, the result is 2.0 and 2. A more demonstrable result might be 16/7 and 16//7. "
   ]
  },
  {
   "cell_type": "code",
   "execution_count": 41,
   "metadata": {},
   "outputs": [
    {
     "name": "stdout",
     "output_type": "stream",
     "text": [
      "Notice the decimal remainder:  2.2857142857142856\n",
      "Notice how this is 'floored' to drop off the remainder:  2\n"
     ]
    }
   ],
   "source": [
    "print(\"Notice the decimal remainder: \",(16/7))\n",
    "print(\"Notice how this is 'floored' to drop off the remainder: \",(16//7))"
   ]
  },
  {
   "cell_type": "markdown",
   "metadata": {},
   "source": [
    "-----------------\n",
    "#### 3. Number Representation (4 Points)\n",
    "Pick an integer number between 33 and 126.  Print the following information about this number. \n",
    "1. Its binary representation\n",
    "2. Its hexadecimal representation\n",
    "3. Its octal representation\n",
    "4. The character corresponding to its Unicode point code. "
   ]
  },
  {
   "cell_type": "code",
   "execution_count": 52,
   "metadata": {},
   "outputs": [
    {
     "name": "stdout",
     "output_type": "stream",
     "text": [
      "1: Binary: 110111\n",
      "2: Hexadecimal: 37\n",
      "3: Octal: 67\n",
      "4: Unicode: 7\n"
     ]
    }
   ],
   "source": [
    "numRep = 55\n",
    "print('1: Binary:',format(numRep, 'b'))\n",
    "print('2: Hexadecimal:',format(numRep, 'x'))\n",
    "print('3: Octal:',format(numRep, 'o'))\n",
    "print('4: Unicode:',format(numRep, 'c'))"
   ]
  },
  {
   "cell_type": "markdown",
   "metadata": {},
   "source": [
    "-----------------\n",
    "#### 4. Variable Assignment (4 Points)\n",
    "Consider the following two Python code examples. In both cases, we assign a value to variable `a`, assign variable `b` to `a` and then make changes variable `a`.  Why is it that in the first example, changes to `a` do not affect `b`, but in the second example they do? \n",
    "*Example 1:* \n",
    "```python\n",
    "In [1]:   a = 1\n",
    "          b = a\n",
    "          a += 1\n",
    "          print(b)\n",
    "   \n",
    "Out [1]:  1\n",
    "```\n",
    "\n",
    "*Example 2:* \n",
    "```python\n",
    "In [2]:   a = [1, 2, 3]\n",
    "          b = a\n",
    "          a.append(4)\n",
    "          print(b)\n",
    "   \n",
    "Out [2]:  [1, 2, 3, 4]"
   ]
  },
  {
   "cell_type": "markdown",
   "metadata": {},
   "source": [
    "---------------\n",
    "The reason has to do with pointers. In example one, the value is copied from a to b. When b was set to a, a new space in memory was allocated for the value of b, and the value of a was copied there. This is known as pass by value. \n",
    "In example 2, we are working with a list. Lists do not pass by value, and instead pass by pointer. The value of b in memory is not a copy of a, but rather a pointer to the value of a. So when you print b, python looks at the memory address of b. In that memory address it says go look at the memory address for a, and then prints the value there. "
   ]
  },
  {
   "cell_type": "markdown",
   "metadata": {},
   "source": [
    "----------------\n",
    "#### 5.  Dynamic Typing (6 Points)\n",
    "\n",
    "Static typing vs. dynamic typing is one of computer programmings most bitter \"[holy wars](http://wiki.c2.com/?HolyWar)'.  As a data scientist, it is important to understand the difference between static and dynamic typing and the pros/cons of each approach.  \n",
    "\n",
    "Answer each of the following questions in your own words.  "
   ]
  },
  {
   "cell_type": "markdown",
   "metadata": {},
   "source": [
    "###### a.  What is the difference between static and dynamic typing? \n",
    "Static typing requires a declaration of an object type.\n",
    "Dynamic typing automatically detects object type.\n",
    "The way that I understand it is it essentially boils down to having to type less with dynamic. In C++ I have to *specify* this is an Int (Int myNumber = 0), wherease Python just knows that it is an Int (myNumber = 0)  "
   ]
  },
  {
   "cell_type": "markdown",
   "metadata": {},
   "source": [
    "###### b.   What are the benefits of static typing over dynamic typing? \n",
    "One of the main benefits of static typing is it allows for mistakes to be found earlier. If the wrong type gets read in, it will let you know. It also has increased readability for someone not familiar with the code. The reader isn't left to make an assumption, and they know what each thing is and it is helpful as they dig through the code."
   ]
  },
  {
   "cell_type": "markdown",
   "metadata": {},
   "source": [
    "###### c.   What are the benefits of dynamic typing over static typing?\n",
    "Dynamic typing is easier to learn. There is also less code, which allows for rapid prototyping. "
   ]
  },
  {
   "cell_type": "markdown",
   "metadata": {},
   "source": [
    "-----------------\n",
    "#### 6. Garbage Collection (4 Points)"
   ]
  },
  {
   "cell_type": "markdown",
   "metadata": {},
   "source": [
    "a. Explain what *garbage collection* means in connection to programming languages."
   ]
  },
  {
   "cell_type": "markdown",
   "metadata": {},
   "source": [
    "b. How does CPython implement garbage collection? "
   ]
  }
 ],
 "metadata": {
  "kernelspec": {
   "display_name": "Python 3",
   "language": "python",
   "name": "python3"
  },
  "language_info": {
   "codemirror_mode": {
    "name": "ipython",
    "version": 3
   },
   "file_extension": ".py",
   "mimetype": "text/x-python",
   "name": "python",
   "nbconvert_exporter": "python",
   "pygments_lexer": "ipython3",
   "version": "3.6.3"
  }
 },
 "nbformat": 4,
 "nbformat_minor": 2
}

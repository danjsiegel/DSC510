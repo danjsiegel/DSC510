{
 "cells": [
  {
   "cell_type": "markdown",
   "metadata": {},
   "source": [
    "# Assignment 2 - Simple Types\n",
    "\n",
    "## Instructions\n",
    "\n",
    "Follow the instructions for submitting a Jupyter Notebook assignment in the submitting assignments documentation. "
   ]
  },
  {
   "cell_type": "markdown",
   "metadata": {},
   "source": [
    "## 1. Numeric Operations (20 Points)\n",
    "\n",
    "```python\n",
    "a = 402\n",
    "b = 1855\n",
    "\n",
    "x = 41.151309\n",
    "y = -95.919741\n",
    "```\n",
    "\n",
    "Given the preceding variable definitions, answer complete the questions below. \n",
    "\n",
    "a. Compute the absolute value of `y`\n",
    "\n",
    "b. Add `x` and `y` and multiple the result by `a`\n",
    "\n",
    "c. Calculate the remainder leftover after dividing `b` by `a` (i.e. `b/a`)\n",
    "\n",
    "d. Calculate `a` to the power of `3`\n",
    "\n",
    "e. Show how to convert `a` to a floating point number\n",
    "\n",
    "f. Multiple `x` by `y` and round the result to two signficant digits\n",
    "\n",
    "g. Compute the bitwise *or* of `a` and `b`\n",
    "\n",
    "h. Compute `x` divided by negative `y` \n",
    "\n",
    "i. Compute `a` added to `b` divided by `x` minus `y`\n",
    "\n",
    "j. Compute the floored quotient of `b` and `x`"
   ]
  },
  {
   "cell_type": "markdown",
   "metadata": {},
   "source": [
    "## 2. Integer Division (2 Points)\n",
    "\n",
    "What is the difference between dividing using the `//` operator and the `/` operator?  For instance, what is the difference between `4/2` and `4//2`? "
   ]
  },
  {
   "cell_type": "markdown",
   "metadata": {},
   "source": [
    "## 3. Number Representations (4 Points)\n",
    "\n",
    "Pick an integer number between 33 and 126.  Print the following information about this number. \n",
    "\n",
    "1. Its binary representation\n",
    "2. Its hexadecimal representation\n",
    "3. Its octal representation\n",
    "4. The character corresponding to its Unicode point code. "
   ]
  },
  {
   "cell_type": "markdown",
   "metadata": {},
   "source": [
    "## 4. Variable Assignment (4 Points)\n",
    "\n",
    "Consider the following two Python code examples. In both cases, we assign a value to variable `a`, assign variable `b` to `a` and then make changes variable `a`.  Why is it that in the first example, changes to `a` do not affect `b`, but in the second example they do? \n",
    "\n",
    "*Example 1:* \n",
    "```python\n",
    "In [1]:   a = 1\n",
    "          b = a\n",
    "          a += 1\n",
    "          print(b)\n",
    "   \n",
    "Out [1]:  1\n",
    "```\n",
    "\n",
    "*Example 2:* \n",
    "```python\n",
    "In [2]:   a = [1, 2, 3]\n",
    "          b = a\n",
    "          a.append(4)\n",
    "          print(b)\n",
    "   \n",
    "Out [2]:  [1, 2, 3, 4]\n",
    "```"
   ]
  },
  {
   "cell_type": "markdown",
   "metadata": {},
   "source": [
    "## 5.  Dynamic Typing (6 Points)\n",
    "\n",
    "Static typing vs. dynamic typing is one of computer programmings most bitter \"[holy wars](http://wiki.c2.com/?HolyWar)'.  As a data scientist, it is important to understand the difference between static and dynamic typing and the pros/cons of each approach.  \n",
    "\n",
    "Answer each of the following questions in your own words.  \n",
    "\n",
    "a.  What is the difference between static and dynamic typing? \n",
    "\n",
    "b.   What are the benefits of static typing over dynamic typing? \n",
    "\n",
    "c.   What are the benefits of dynamic typing over static typing? "
   ]
  },
  {
   "cell_type": "markdown",
   "metadata": {},
   "source": [
    "## 6. Garbage Collection (4 Points)\n",
    "\n",
    "a. Explain what *garbage collection* means in connection to programming languages.\n",
    "\n",
    "b. How does CPython implement garbage collection? "
   ]
  }
 ],
 "metadata": {
  "kernelspec": {
   "display_name": "Python 3",
   "language": "python",
   "name": "python3"
  },
  "language_info": {
   "codemirror_mode": {
    "name": "ipython",
    "version": 3
   },
   "file_extension": ".py",
   "mimetype": "text/x-python",
   "name": "python",
   "nbconvert_exporter": "python",
   "pygments_lexer": "ipython3",
   "version": "3.6.1"
  }
 },
 "nbformat": 4,
 "nbformat_minor": 2
}

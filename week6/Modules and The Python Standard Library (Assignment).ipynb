{
 "cells": [
  {
   "cell_type": "markdown",
   "metadata": {},
   "source": [
    "# Assignment 6 - Modules, Packages, and Scripts\n",
    "\n",
    "## Instructions\n",
    "\n",
    "For this assignment, follow the instructions for submitting a Github repository in the *Submitting Assignments* document.  This assignment does not use code reviews.  "
   ]
  },
  {
   "cell_type": "markdown",
   "metadata": {},
   "source": [
    "## Directory Structure\n",
    "\n",
    "The following is the directory structure you will be using for this assignment. \n",
    "\n",
    "```nohighlight\n",
    "msds510/\n",
    "├── .gitignore\n",
    "├── data\n",
    "│   ├── interim\n",
    "│   │   └── avengers_utf8.csv\n",
    "│   ├── processed\n",
    "│   │   └── avengers_processed.csv\n",
    "│   └── raw\n",
    "│       └── avengers.csv\n",
    "└── src\n",
    "    ├── convert_to_utf8.py\n",
    "    ├── msds510\n",
    "    │   ├── __init__.py\n",
    "    │   └── util.py\n",
    "    ├── read_csv.py\n",
    "    ├── read_csv_dict.py\n",
    "    ├── write_csv.py\n",
    "    └── test_util_module.py\n",
    "```"
   ]
  },
  {
   "cell_type": "markdown",
   "metadata": {},
   "source": [
    "## 1. Setting up PyCharm and Github (5 Points)\n",
    "\n",
    "### 1.1 Join Github and Create a Repo (1 Point)\n",
    "\n",
    "In this assignment, you will be introduced to Github. Github is a web-based service for hosting git-based repositories. In addition to hosting git repositories, Github offers a variety of tools for managing complex projects of all sizes, including an issue tracker, a project wiki, documentation hosting, code reviews, and more.  \n",
    "\n",
    "To get started,  [join Github](https://github.com/join) using your student email address.  It is also recommended that you sign up for the [Github Student Developer Pack](https://education.github.com/pack) as it provides many professional programming tools free of charge to students.  \n",
    "\n",
    "Create a repository with the name `msds510`.  You will be using this repository for the remainder of the course.  When you create the repository, select the option to initialize this repository with a *README* file as it makes it easier to clone this repository in later steps.  \n",
    "\n",
    "\n",
    "### 1.2 Setup Git on your Local Machine (1 Point)\n",
    "\n",
    "Once you have finished setting up Git on your local machine, you should clone the repository you created in the previous step to your local machine.  You put this directory anywhere you want on your machine, but it is useful to develop a consistent directory structure for your projects.  The following is an example of `Workspaces` directory that sorts projects into `Personal`, `School`, and `Work`.  \n",
    "\n",
    "```nohighlight\n",
    "Workspaces/\n",
    "├── Personal\n",
    "│   ├── personal-project-1\n",
    "│   └── personal-project-2\n",
    "├── School\n",
    "│   └── msds510\n",
    "└── Work\n",
    "    ├── work-project-1\n",
    "    └── work-project-2\n",
    "```\n",
    "\n",
    "### 1.4 Install and Setup PyCharm  (1 Point)\n",
    "\n",
    "[Download and install PyCharm](https://www.jetbrains.com/pycharm/download/) for your operating system and platform.  You can download the Community version for free. \n",
    "\n",
    "* Read the [Quick Start Guide](https://www.jetbrains.com/help/pycharm/quick-start-guide.html) to PyCharm. \n",
    "* Follow the instructions in [Importing Project from Existing Source Code](https://www.jetbrains.com/help/pycharm/importing-project-from-existing-source-code.html) to create a project based on the repository you cloned from Github.  \n",
    "\n",
    "\n",
    "### 1.5 Add a gitignore file (1 Point) \n",
    "\n",
    "Finally, add a `.gitingore` file to the root of your project.  This tells the git version control system to ignore certain types of files and not check them into version control.   You should add the contents of the following `.gitignore` templates to your project's `.gitignore` file.  \n",
    "\n",
    "*  [Github's Python .gitignore template](https://raw.githubusercontent.com/github/gitignore/master/Python.gitignore).  \n",
    "* [Windows](https://raw.githubusercontent.com/github/gitignore/master/Global/Windows.gitignore) (If you are running Windows)\n",
    "*  [macOs](https://raw.githubusercontent.com/github/gitignore/master/Global/macOS.gitignore) (If you are running macOs)\n",
    "* [Jetbrains](https://raw.githubusercontent.com/github/gitignore/master/Global/JetBrains.gitignore)\n",
    "\n",
    "Add and commit the `.gitignore` file to your local git repository.  Once you have committed this file, push it to your remote repository and ensure the file appears on Github. "
   ]
  },
  {
   "cell_type": "markdown",
   "metadata": {},
   "source": [
    "## 2. Convert to UTF8 Script (5 Points)\n",
    "\n",
    "Implement the `convert_to_utf8.py` script and generate the `avengers_utf8.csv` file in the `interim` data directory.   This script should take two command line arguments, an input file and the output file.  \n",
    "\n",
    "After you have finished implementing the script, you should be able to run it as follows the script as follows. \n",
    "\n",
    "```\n",
    "python convert_to_utf8.py ../data/raw/avengers.csv ../data/interim/avengers_utf8.csv\n",
    "```\n",
    "\n",
    "### Implementation Tips\n",
    "\n",
    "When implementing this script, you should define one top-level function called `main` that is executed according to the documentation [__main__ — Top-level script environment](https://docs.python.org/3/library/__main__.html).  \n",
    "\n",
    "To read command line arguments, use `argv` from the [sys](https://docs.python.org/3/library/sys.html) module.  \n",
    "\n",
    "The Python [open](https://docs.python.org/3/library/functions.html#open) function has an option to specify `encoding` when opening a file.  This might be easier than reading the data and decoding it. \n",
    "\n",
    "If you are running into trouble, start by running the following boilerplate code and see what happens. \n",
    "\n",
    "```python\n",
    "import sys\n",
    "\n",
    "\n",
    "def main():\n",
    "    print(sys.argv)\n",
    "\n",
    "\n",
    "if __name__ == '__main__':\n",
    "    main()\n",
    "```"
   ]
  },
  {
   "cell_type": "markdown",
   "metadata": {},
   "source": [
    "## 3.  Use the CSV Reader (15 Points)\n",
    "\n",
    "In the previous lessons, we ran into problems reading some data from our CSV file.  In particular, we had problems reading a row that included commas within the data.  We could implement our own CSV reader to handle commas within the data, but it is easier to use Python's built-in [csv - CSV File Reading and Writing](https://docs.python.org/3/library/csv.html) module. "
   ]
  },
  {
   "cell_type": "markdown",
   "metadata": {},
   "source": [
    "### a. Use Basic CSV Reader\n",
    "\n",
    "Implement the `read_csv.py` script.  It should take one argument as input, the input CSV file.  When completed, you should be able to run the script as follows. \n",
    "\n",
    "```\n",
    "python read_csv.py ../data/interim/avengers_utf8.csv\n",
    "```\n",
    "Use `csv.reader` to read the CSV data into rows.  Using the `print` function to print the 162nd row. For the purposes of this exercises, do not skip the header row. "
   ]
  },
  {
   "cell_type": "markdown",
   "metadata": {},
   "source": [
    "### b.  Use DictReader\n",
    "\n",
    "Implement the `read_csv_dict.py` script.  It should take one argument as input, the input CSV file.  When completed, you should be able to run the script as follows. \n",
    "\n",
    "```\n",
    "python read_csv_dict.py ../data/interim/avengers_utf8.csv\n",
    "```\n",
    "Instead of using `csv.reader`, use `csv.DictReader`.  Using the `print` function to print the 161th record and the `fieldnames`.  "
   ]
  },
  {
   "cell_type": "markdown",
   "metadata": {},
   "source": [
    "### c. Write CSV with DictWriter\n",
    "\n",
    "Implement the `write_csv.py` script.  It should take two arguments as input, the input CSV file, and the output CSV file.  When completed, you should be able to run the script as follows. \n",
    "\n",
    "```\n",
    "python write_csv.py ../data/interim/avengers_utf8.csv ../data/processed/avengers_processed.csv\n",
    "``` \n",
    "Use `csv.DictReader` to read in the data from the input CSV like you did in the previous step.  Make sure you get the original `fieldnames` from the input file.  Change those `fieldnames` to Python friendly names and use those as your new `fieldnames` when you use `DictWriter` to write your new CSV file.  \n",
    "\n",
    "#### Implementation hints\n",
    "\n",
    "1. Remember to change the `fieldnames` in your dictionary records to match the `fieldnames` in your output CSV\n",
    "2. Don't forget to write the header to your new output CSV"
   ]
  },
  {
   "cell_type": "markdown",
   "metadata": {},
   "source": [
    "## 4. Date-based Utility Module (15 Points)\n",
    "\n",
    "In the input CSV, the `Full/Reserve Avengers Intro` field contains the month and year of when the character joined the Avengers.  This is somewhat duplicated by the `Year` field which contains only the year. \n",
    "\n",
    "In this assignment, you will implement a series of utility functions that extract the month from these fields and eventually return a Python `datetime.date` with the date the character joined.  \n",
    "\n",
    "For this assignment, we will use the following strip down records as test input.  \n",
    "\n",
    "```python\n",
    "records = [\n",
    "    dict(year='1988', intro='Jun-88'),\n",
    "    dict(year='1989', intro='May-89'),\n",
    "    dict(year='2005', intro='5-May'),\n",
    "    dict(year='2013', intro='13-Nov'),\n",
    "    dict(year='2014', intro='14-Jan'),\n",
    "]\n",
    "```"
   ]
  },
  {
   "cell_type": "markdown",
   "metadata": {},
   "source": [
    "### a. Implement `get_month` function\n",
    "\n",
    "In the `utils.py` module, implement the function `get_month` such that it takes in an input string from the `intro` field and returns the integer month.  The following are examples of desired output. \n",
    "\n",
    "```python\n",
    ">>> get_month('13-Nov')\n",
    "11\n",
    ">>> get_month('May-89')\n",
    "5\n",
    ">>> get_month('14-Jan')\n",
    "1\n",
    "```"
   ]
  },
  {
   "cell_type": "markdown",
   "metadata": {},
   "source": [
    "### b. Implement `get_date_joined` function\n",
    "\n",
    "Implement the `get_date_joined` function in the `utils` module.  It should return a Python `datetime.date` of when the character joined the Avengers.  Since the day is not given, set all days to the first day of the month.  \n",
    "\n",
    "The following are examples of desired output. \n",
    "\n",
    "```python\n",
    ">>> get_date_joined('1988', 'Jun-88')\n",
    "datetime.date(1988, 6, 1)\n",
    ">>> get_date_joined('2013', '13-Nov')\n",
    "datetime.date(2013, 11, 1)\n",
    "```"
   ]
  },
  {
   "cell_type": "markdown",
   "metadata": {},
   "source": [
    "### c. Implement `days_since_joined` function\n",
    "\n",
    "Implement the `days_since_joined` function in the `utils` module.  It should return the integer number of days since the character joined the Avengers from today's date.  As such, the output will vary depending on today's date.  \n",
    "\n",
    "The following are examples of desired output. \n",
    "\n",
    "\n",
    "```python\n",
    ">>> days_since_joined('1988', 'Jun-88')\n",
    "10814\n",
    ">>> days_since_joined('2013', '13-Nov')\n",
    "1530\n",
    "```"
   ]
  },
  {
   "cell_type": "markdown",
   "metadata": {},
   "source": [
    "### d. Implement `test_util_module.py` Script\n",
    "\n",
    "Using the records provided as test input, implement the `test_util_module.py`.  When run, the script should print out information for each record. It should print the original input record, the date joined, and the days since joined.  The following is an example of such output for the first two records. \n",
    "\n",
    "```python \n",
    "Input Record - {'year': '1988', 'intro': 'Jun-88'}\n",
    "Date joined - 1988-06-01\n",
    "Days since joined - 10814\n",
    "\n",
    "Input Record - {'year': '1989', 'intro': 'May-89'}\n",
    "Date joined - 1989-05-01\n",
    "Days since joined - 10480\n",
    ". \n",
    ". \n",
    ". \n",
    "```"
   ]
  }
 ],
 "metadata": {
  "kernelspec": {
   "display_name": "Python 3",
   "language": "python",
   "name": "python3"
  },
  "language_info": {
   "codemirror_mode": {
    "name": "ipython",
    "version": 3
   },
   "file_extension": ".py",
   "mimetype": "text/x-python",
   "name": "python",
   "nbconvert_exporter": "python",
   "pygments_lexer": "ipython3",
   "version": "3.6.3"
  }
 },
 "nbformat": 4,
 "nbformat_minor": 2
}

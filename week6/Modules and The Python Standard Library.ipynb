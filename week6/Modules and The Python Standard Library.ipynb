{
 "cells": [
  {
   "cell_type": "markdown",
   "metadata": {},
   "source": [
    "# Modules and The Python Standard Library\n",
    "\n",
    "In the previous lesson, we learned how to create reusable snippets of code using functions.  In this lesson, we are going to take things a step further and learn how to create collections of reusable functions and other code by creating *modules* and *packages*.  Modules allow you to write a function or other code once and reuse it for different projects.  A package is a collection of related modules.  \n",
    "\n",
    "Before learning how to create your own modules and packages, we will explore the [Python Standard Library](https://docs.python.org/3/library/index.html) of packages and modules.  One of the things that makes Python so popular is its \"batteries included\" philosophy.  It is important for you to understand what is already included in the standard library, so you don't end up \"reinventing the wheel.\" \n",
    "\n",
    "After learning how to import and reuse code written by others, you will go on to create your own reusable modules and packages. We will also be learning about how to create Python scripts and use Python from the command line.  \n",
    "\n",
    "Lastly, while Jupyter Notebook is good for adhoc Python code, it is not an ideal tool for creating reusable Python modules.  It is at this point we will introduce you to an integrated development environment (IDE) in the form of [PyCharm](https://www.jetbrains.com/pycharm/).  "
   ]
  },
  {
   "cell_type": "markdown",
   "metadata": {},
   "source": [
    "## Project Structure\n",
    "\n",
    "Up until this point, you have been able to complete all of your assignments and examples in a single Jupyter Notebook.  Real-world data science projects are rarely this simple and will require multiple files including Python source code, HTML reports, PDF reference material, source data, processed data, and documentation.  \n",
    "\n",
    "To manage the complexity of a larger data analysis project, we need to organize and structure our project properly.  For this class, we will use a project structure loosely based on [Cookiecutter Data Science](https://drivendata.github.io/cookiecutter-data-science/). \n",
    "\n",
    "Below is the directory structure we will be using throughout the rest of the course.  You may not need every directory and file for each assignment or project.  For instance, the `.gitignore` file is used by the Git version control system which we will introduce in later lessons.  Similarly, the `docs` folder is for project-level documentation and will not be needed until the final project.  \n",
    "\n",
    "\n",
    "```nohighlight\n",
    "project-name/            <- Name of your analysis project.\n",
    "├── .gitignore           <- Tells version control to ignore files like .pyc files.\n",
    "├── README.md            <- The top-level README for developers using this project.       \n",
    "├── data\n",
    "│   ├── interim          <- Intermediate data that has been transformed.\n",
    "│   ├── processed        <- The final, canonical data sets for modeling.\n",
    "│   └── raw              <- The original, immutable data dump.\n",
    "├── docs                 <- Default location for project-level documentation\n",
    "├── notebooks            <- Jupyter notebooks.\n",
    "├── references           <- Data dictionaries, manuals, and all other explanatory materials.\n",
    "├── reports              <- Generated analysis as HTML, PDF, PNG, etc.\n",
    "├── requirements.txt     <- The requirements file for reproducing the analysis environment, e.g.\n",
    "│                           generated with `pip freeze > requirements.txt`\n",
    "└── src                  <- Source code for use in this project.\n",
    "    ├── mypackage        <- Place for your custom code\n",
    "    │   ├── __init__.py  <- Makes mypackage a package\n",
    "    │   ├── mymodule1.py <- Module in `mypackage`\n",
    "    │   └── mymodule2.py <- Module in `mypackage`\n",
    "    ├── script1.py       <- Script to prepare data, generate reports, etc...\n",
    "    ├── script2.py       <- Script to prepare data, generate reports, etc...\n",
    "    └── tests            <- Directory for the projects' unit tests. \n",
    "        │                   Run using a unit test runner like py.test or nose.\n",
    "        ├── test_123.py  <- Unit tests for the project.\n",
    "        ├── test_321.py  <- Unit tests for the project.\n",
    "        └── __init__.py  \n",
    "```"
   ]
  },
  {
   "cell_type": "markdown",
   "metadata": {},
   "source": [
    "## Assigned Reading and Viewing\n",
    "\n",
    "### Modules, Packages, and Scripts \n",
    "\n",
    "* Read Chapters 22 to 24 in Learning Python\n",
    "* Read [Modules](https://python.swaroopch.com/modules.html) from a *Byte of Python*\n",
    "* Read [__main__ — Top-level script environment](https://docs.python.org/3/library/__main__.html)\n",
    "\n",
    "### The Python Standard Library \n",
    "\n",
    "* Read [Introduction](https://docs.python.org/3/library/intro.html) to the Python Standard Library and review [The Python Standard Library index](https://docs.python.org/3/library/index.html). \n",
    "* Familiarize yourself with the [datetime module](https://docs.python.org/3/library/datetime.html).  \n",
    "* Familiarize yourself with the [csv module](https://docs.python.org/3/library/csv.html).\n",
    "\n",
    "### Getting Started with PyCharm\n",
    "\n",
    "* Read the [Quick Start Guide](https://www.jetbrains.com/help/pycharm/quick-start-guide.html) to PyCharm. \n",
    "* Read [Creating and Running Your First Python Project](https://www.jetbrains.com/help/pycharm/step-1-creating-and-running-your-first-python-project.html).  Use this and the Quick Start Guide to assist you with your homework. "
   ]
  },
  {
   "cell_type": "markdown",
   "metadata": {},
   "source": [
    "## Standard Library\n",
    "\n",
    "Here are a few key modules from Python's Standard Library that you as a data scientist should be aware of.  "
   ]
  },
  {
   "cell_type": "markdown",
   "metadata": {},
   "source": [
    "### datetime\n",
    "\n",
    "Dates and times are often found real world datasets.  The Python [datetime](https://docs.python.org/3/library/datetime.html) module provides classes and functions for manipulating dates and times. Here are a few examples of the datetime module in action. "
   ]
  },
  {
   "cell_type": "code",
   "execution_count": 1,
   "metadata": {
    "collapsed": true
   },
   "outputs": [],
   "source": [
    "import datetime\n",
    "\n",
    "# Get the timestamp for current time\n",
    "now = datetime.datetime.now()\n",
    "\n",
    "# Get the timestamp for current time in the UTC timezone\n",
    "utcnow = datetime.datetime.utcnow()\n",
    "\n",
    "# Get the today's date\n",
    "today = datetime.date.today()\n",
    "\n",
    "# Get the date 60 days from now\n",
    "later = today + datetime.timedelta(days=60)"
   ]
  },
  {
   "cell_type": "markdown",
   "metadata": {},
   "source": [
    "### os\n",
    "\n",
    "The [os](https://docs.python.org/3/library/os.html) provides platform independent operating system functions. "
   ]
  },
  {
   "cell_type": "code",
   "execution_count": 2,
   "metadata": {
    "collapsed": true
   },
   "outputs": [],
   "source": [
    "import os\n",
    "\n",
    "# Get the current working directory\n",
    "working_directory = os.getcwd()\n",
    "\n",
    "# List the files and directories in the working directory\n",
    "dir_contents = os.listdir(working_directory)\n",
    "\n",
    "# Get information on the current operating system\n",
    "uname = os.uname()"
   ]
  },
  {
   "cell_type": "markdown",
   "metadata": {},
   "source": [
    "### os.path\n",
    "\n",
    "The [os.path](https://docs.python.org/3/library/os.path.html) module provides useful functions for acting on file paths.  It handles operating system specific details like whether the file system uses forward slashes or backslashes. "
   ]
  },
  {
   "cell_type": "code",
   "execution_count": 3,
   "metadata": {
    "collapsed": true
   },
   "outputs": [],
   "source": [
    "import os\n",
    "\n",
    "# Get an absolute path \n",
    "working_directory = os.getcwd()\n",
    "abspath_dir = os.path.abspath(working_directory)\n",
    "\n",
    "# Get a path for 'foo.txt' in the working directory\n",
    "foo_path = os.path.join(working_directory, 'foo.txt')\n",
    "\n",
    "# Return base name of the path. In this case it is the filename\n",
    "foo_basename = os.path.basename(foo_path)\n",
    "\n",
    "# Gives the directory name for the path.  \n",
    "foo_dir = os.path.dirname(foo_path)\n",
    "\n",
    "# Tests if the path exists\n",
    "foo_exists = os.path.exists(foo_path)"
   ]
  },
  {
   "cell_type": "markdown",
   "metadata": {},
   "source": [
    "### collections\n",
    "\n",
    "Python's [collections](https://docs.python.org/3/library/collections.html) contains useful extensions to Python's built-in dictionaries, lists, tuples, and sets. Here are examples of a few useful collection data types. "
   ]
  },
  {
   "cell_type": "code",
   "execution_count": 4,
   "metadata": {},
   "outputs": [
    {
     "name": "stdout",
     "output_type": "stream",
     "text": [
      "a - 4\n",
      "b - 3\n",
      "c - 2\n"
     ]
    }
   ],
   "source": [
    "#  Counter is a sub-class of dict used to count objects \n",
    "from collections import Counter\n",
    "\n",
    "items = ['a', 'b', 'b', 'c', 'd', 'a', 'a', 'a', 'c', 'b']\n",
    "\n",
    "for item, count in Counter(items).most_common(3):\n",
    "    print('{} - {}'.format(item, count))"
   ]
  },
  {
   "cell_type": "code",
   "execution_count": 5,
   "metadata": {},
   "outputs": [
    {
     "name": "stdout",
     "output_type": "stream",
     "text": [
      "Normal tuple: \n",
      "(32, -12, 100)\n",
      "\n",
      "Named tuple: \n",
      "Coordinates(x=32, y=-12, z=100)\n"
     ]
    }
   ],
   "source": [
    "# namedtuple allows you to access tuple data using names instead of position\n",
    "from collections import namedtuple\n",
    "\n",
    "# Define a new type called Coordinates\n",
    "Coordinates = namedtuple('Coordinates', ['x', 'y', 'z'])\n",
    "\n",
    "# Create a normal tuple and a namedtuple\n",
    "coords_tuple = (32, -12, 100)\n",
    "coords_named = Coordinates(32, -12, 100)\n",
    "\n",
    "# Printing the normal tuple and the namedtuple\n",
    "\n",
    "print('Normal tuple: ')\n",
    "print(coords_tuple)\n",
    "print()\n",
    "\n",
    "print('Named tuple: ')\n",
    "print(coords_named)"
   ]
  },
  {
   "cell_type": "code",
   "execution_count": 6,
   "metadata": {},
   "outputs": [
    {
     "data": {
      "text/plain": [
       "OrderedDict([('b', 3), ('a', 4), ('c', 1), ('d', 2)])"
      ]
     },
     "execution_count": 6,
     "metadata": {},
     "output_type": "execute_result"
    }
   ],
   "source": [
    "# A dictionary that remembers the order of the items\n",
    "from collections import OrderedDict\n",
    "\n",
    "ordered_dict = OrderedDict([('b', 3), ('a', 4), ('c', 1), ('d', 2)])\n",
    "ordered_dict"
   ]
  },
  {
   "cell_type": "markdown",
   "metadata": {},
   "source": [
    "### statistics\n",
    "\n",
    "Python 3.4 introduced a built-in statistics module.  This is useful for calculating common statistics such as mean, median, mode, and variance. In most real-world data science applications, you will probably use [NumPy](http://www.numpy.org/) or a similar library instead of this one. "
   ]
  },
  {
   "cell_type": "code",
   "execution_count": 7,
   "metadata": {},
   "outputs": [
    {
     "name": "stdout",
     "output_type": "stream",
     "text": [
      "Mean: 2.8, Median: 3, Mode: 4, Variance: 1.7\n"
     ]
    }
   ],
   "source": [
    "import statistics\n",
    "\n",
    "values = [1, 2, 3, 4, 4]\n",
    "\n",
    "# Compute the mean\n",
    "mean = statistics.mean(values)\n",
    "\n",
    "# Compute the median\n",
    "median = statistics.median(values)\n",
    "\n",
    "# Compute the mode\n",
    "mode = statistics.mode(values)\n",
    "\n",
    "# Compute the variancehttp://localhost:8888/notebooks/06_modules_and_standard_library/Modules%20and%20The%20Python%20Standard%20Library.ipynb#\n",
    "var = statistics.variance(values)\n",
    "\n",
    "print('Mean: {}, Median: {}, Mode: {}, Variance: {}'.format(mean, median, mode, var))"
   ]
  },
  {
   "cell_type": "markdown",
   "metadata": {},
   "source": [
    "### math\n",
    "\n",
    "Python 3.4 introduced a built-in [math](https://docs.python.org/3/library/math.html) module.  It implements common math functions such as the square root, sin, cos, and tangent.  In most real-world data science applications, you will probably use [NumPy](http://www.numpy.org/) or a similar library instead of this one. "
   ]
  },
  {
   "cell_type": "code",
   "execution_count": 8,
   "metadata": {
    "scrolled": false
   },
   "outputs": [
    {
     "name": "stdout",
     "output_type": "stream",
     "text": [
      "The square root of 16 is 4.0\n",
      "The log of a 1 million is 6.0\n"
     ]
    }
   ],
   "source": [
    "from math import sqrt, log10\n",
    "\n",
    "# Calculate the square root of 16\n",
    "print('The square root of 16 is {}'.format(sqrt(16)))\n",
    "\n",
    "# Calculate the base 10 logarithm of 1 million\n",
    "print('The log of a 1 million is {}'.format(log10(1000000)))"
   ]
  }
 ],
 "metadata": {
  "kernelspec": {
   "display_name": "Python 3",
   "language": "python",
   "name": "python3"
  },
  "language_info": {
   "codemirror_mode": {
    "name": "ipython",
    "version": 3
   },
   "file_extension": ".py",
   "mimetype": "text/x-python",
   "name": "python",
   "nbconvert_exporter": "python",
   "pygments_lexer": "ipython3",
   "version": "3.6.3"
  }
 },
 "nbformat": 4,
 "nbformat_minor": 2
}

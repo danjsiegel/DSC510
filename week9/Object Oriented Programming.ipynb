{
 "cells": [
  {
   "cell_type": "markdown",
   "metadata": {},
   "source": [
    "# Object Oriented Programming\n",
    "\n",
    "Python supports two major programming paradigms; *procedural programming* and *object-oriented programming*. Up until this point, we have been using procedural programming.  Procedural programming is a form of structured programming that divides code into reusable chunks of code called procedures (also known as subroutines and functions).  Object-oriented programming divides code into objects instead of procedures.  \n",
    "\n",
    "One way to think about the difference between the two paradigms is that object-oriented programming defines objects which are nouns and procedural programming defines functions which are verbs.  "
   ]
  },
  {
   "cell_type": "markdown",
   "metadata": {},
   "source": [
    "## Assigned Reading and Viewing\n",
    "\n",
    "* Read Chapters 26-29 in *Learning Python*"
   ]
  }
 ],
 "metadata": {
  "kernelspec": {
   "display_name": "Python 3",
   "language": "python",
   "name": "python3"
  },
  "language_info": {
   "codemirror_mode": {
    "name": "ipython",
    "version": 3
   },
   "file_extension": ".py",
   "mimetype": "text/x-python",
   "name": "python",
   "nbconvert_exporter": "python",
   "pygments_lexer": "ipython3",
   "version": "3.6.4"
  }
 },
 "nbformat": 4,
 "nbformat_minor": 2
}

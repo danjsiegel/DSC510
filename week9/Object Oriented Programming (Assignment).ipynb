{
 "cells": [
  {
   "cell_type": "markdown",
   "metadata": {},
   "source": [
    "# Assignment 8 - Object Oriented Programming\n",
    "\n",
    "## Instructions\n",
    "\n",
    "Starting from your local repository's `master` branch, create a branch called `object-oriented-programming`.  This is branch you will use to complete this assignment.  You will submit this branch as a pull request and use the pull request review feature to have others review your assignment.  You will merge this branch into the `master` branch once you have completed the assignment. If you have additional questions, follow the instructions for submitting a Github repository in the *Submitting Assignments* document.  This assignment uses code reviews, so make sure you have two people review your code. \n",
    "\n",
    "At the end of this assignment, you will submit a single file called `avenger.py` that contains an implemented version of the `Avenger` class and a script that tests the class against the example record provided.  Add the `avenger.py` file to the `msds510` repository you created in an earlier assignment. "
   ]
  },
  {
   "cell_type": "markdown",
   "metadata": {},
   "source": [
    "## Implement an Avenger Class (40 Points)\n",
    "\n",
    "This assignment is different from previous assignments in that there is only one part worth a total of 40 points.  The end goal of this assignment is to implement a `class` for the Avengers dataset from previous assignments.  You will then test the implementation of this class on a dictionary-based record example. "
   ]
  },
  {
   "cell_type": "markdown",
   "metadata": {},
   "source": [
    "### Grading\n",
    "\n",
    "The following is a breakdown of how your assignment will be graded. \n",
    "\n",
    "* (4 Points) - Code runs without any errors \n",
    "* (4 Points) - Each of the non-constructor methods is implemented and returns some value based on the underlying data\n",
    "* (4 Points) - The `appearances` and `year` methods both return the correct integer values\n",
    "* (4 Points) - The `is_current` method returns the correct boolean type\n",
    "* (4 Points) - The `notes` method strips all whitespace (e.g. newlines and spaces) before returning a value\n",
    "* (4 Points) - The `date_joined` method returns the correc `datetime.date` type \n",
    "* (4 Points) - The `name_alias`, `url`,  and `gender` methods all return correct values. \n",
    "* (4 Points) - Both `__str__` and `__repr__` are implemented and return results similar, if not identical, to the exepected output shown below. \n",
    "* (4 Points) - The `days_since_joining` and `years_since_joining` methods return the correct values based on today's date (i.e. whenever the script runs)\n",
    "* (4 Points) - You conducted two code reviews according to the code review guidelines. "
   ]
  },
  {
   "cell_type": "markdown",
   "metadata": {},
   "source": [
    "### Class Stub\n",
    "\n",
    "The following is a stub for the class you will need to implement. It uses [Google style docstrings](http://sphinxcontrib-napoleon.readthedocs.io/en/latest/example_google.html) from the [Google Python Style Guide](https://google.github.io/styleguide/pyguide.html?showone=Comments#Comments).  You do not need to worry about documentation strings for now.  The only reason they are in the stub is to provide you with hints on what each method should return. \n",
    "\n",
    "```python\n",
    "class Avenger:\n",
    "    def __init__(self, record):\n",
    "        \"\"\"\n",
    "        Initializes the object with a dictionary-based record.\n",
    "\n",
    "        Args:\n",
    "            record (dict): Dictionary-based record of Avenger data\n",
    "        \"\"\"\n",
    "\n",
    "    def url(self):\n",
    "        \"\"\"\n",
    "\n",
    "        Returns:\n",
    "            str: The URL of the comic character on the Marvel Wikia\n",
    "\n",
    "        \"\"\"\n",
    "\n",
    "    def name_alias(self):\n",
    "        \"\"\"\n",
    "\n",
    "        Returns:\n",
    "            str: The full name or alias of the character\n",
    "\n",
    "        \"\"\"\n",
    "\n",
    "    def appearances(self):\n",
    "        \"\"\"\n",
    "\n",
    "        Returns:\n",
    "            int: The number of comic books that character appeared in as of April 30\n",
    "\n",
    "        \"\"\"\n",
    "\n",
    "    def is_current(self):\n",
    "        \"\"\"\n",
    "\n",
    "        Returns:\n",
    "            bool: Is the member currently active on an avengers affiliated team? (True/False)\n",
    "\n",
    "        \"\"\"\n",
    "\n",
    "    def gender(self):\n",
    "        \"\"\"\n",
    "\n",
    "        Returns:\n",
    "            str: The recorded gender of the character\n",
    "\n",
    "        \"\"\"\n",
    "\n",
    "    def year(self):\n",
    "        \"\"\"\n",
    "\n",
    "        Returns:\n",
    "            int: The year the character was introduced as a full or reserve member of the Avengers\n",
    "\n",
    "        \"\"\"\n",
    "\n",
    "    def date_joined(self):\n",
    "        \"\"\"\n",
    "\n",
    "        Returns:\n",
    "            datetime.date: The date the character joined\n",
    "\n",
    "        \"\"\"\n",
    "\n",
    "    def days_since_joining(self):\n",
    "        \"\"\"\n",
    "\n",
    "        Returns:\n",
    "            int: The number of integer days since the character joined\n",
    "\n",
    "        \"\"\"\n",
    "\n",
    "    def years_since_joining(self):\n",
    "        \"\"\"\n",
    "\n",
    "        Returns:\n",
    "            int: The number of integer years since the character joined\n",
    "\n",
    "        \"\"\"\n",
    "\n",
    "    def notes(self):\n",
    "        \"\"\"STRIP OFF TRAILING NEWLINES AND SPACES\n",
    "\n",
    "        Returns:\n",
    "            str: Descriptions of deaths and resurrections.\n",
    "\n",
    "        \"\"\"\n",
    "\n",
    "    def __str__(self):\n",
    "        \"\"\"\n",
    "\n",
    "        Returns:\n",
    "            str: A human-readable value for this character\n",
    "\n",
    "        \"\"\"\n",
    "\n",
    "    def __repr__(self):\n",
    "        \"\"\"\n",
    "\n",
    "        Returns:\n",
    "            str: String representation of object.  Useful for debugging.\n",
    "        \"\"\"                                                 \n",
    "```"
   ]
  },
  {
   "cell_type": "markdown",
   "metadata": {},
   "source": [
    "### Testing the Class with Data\n",
    "\n",
    "The following is code you should add to the end of your file to test whether or not your class is implemented properly.  It should return results similar, if not identically, to those found in the *Expected Results* section. \n",
    "\n",
    "```python\n",
    "if __name__ == '__main__':\n",
    "    pym_record = {\n",
    "        'appearances': '1269',\n",
    "        'current': 'YES',\n",
    "        'death1': 'YES',\n",
    "        'death2': '',\n",
    "        'death3': '',\n",
    "        'death4': '',\n",
    "        'death5': '',\n",
    "        'full_reserve_avengers_intro': 'Sep-63',\n",
    "        'gender': 'MALE',\n",
    "        'honorary': 'Full',\n",
    "        'name_alias': 'Henry Jonathan \"Hank\" Pym',\n",
    "        'notes': 'Merged with Ultron in Rage of Ultron Vol. 1. A funeral was held. \\n',\n",
    "        'probationary_introl': '',\n",
    "        'return1': 'NO',\n",
    "        'return2': '',\n",
    "        'return3': '',\n",
    "        'return4': '',\n",
    "        'return5': '',\n",
    "        'url': 'http://marvel.wikia.com/Henry_Pym_(Earth-616)',\n",
    "        'year': '1963',\n",
    "        'years_since_joining': '52'\n",
    "    }\n",
    "\n",
    "    hank_pym = Avenger(pym_record)\n",
    "    print('Name/Alias: {}'.format(hank_pym.name_alias()))\n",
    "    print('URL: {}'.format(hank_pym.url()))\n",
    "    print('Is Current?: {}'.format(hank_pym.is_current()))\n",
    "    print('Gender: {}'.format(hank_pym.gender()))\n",
    "    print('Year Joined: {}'.format(hank_pym.year()))\n",
    "    print('Date Joined: {}'.format(hank_pym.date_joined()))\n",
    "    print('Days Since Joined: {}'.format(hank_pym.days_since_joining()))\n",
    "    print('Years Since Joined: {}'.format(hank_pym.years_since_joining()))\n",
    "    print('Notes: {}'.format(hank_pym.notes()))\n",
    "    print('__str__: {}'.format(hank_pym))\n",
    "    print('__repr__: {}'.format(hank_pym.__repr__()))\n",
    "```"
   ]
  },
  {
   "cell_type": "markdown",
   "metadata": {},
   "source": [
    "### Expected Output"
   ]
  },
  {
   "cell_type": "code",
   "execution_count": 2,
   "metadata": {},
   "outputs": [
    {
     "data": {
      "text/plain": [
       "'Avenger(name_alias=Henry Jonathan \"Hank\" Pym, url=http://marvel.wikia.com/Henry_Pym_(Earth-616))'"
      ]
     },
     "execution_count": 2,
     "metadata": {},
     "output_type": "execute_result"
    }
   ],
   "source": [
    "hank_pym = Avenger(pym_record)\n",
    "hank_pym.__repr__()"
   ]
  },
  {
   "cell_type": "code",
   "execution_count": 3,
   "metadata": {},
   "outputs": [
    {
     "data": {
      "text/plain": [
       "'Henry Jonathan \"Hank\" Pym'"
      ]
     },
     "execution_count": 3,
     "metadata": {},
     "output_type": "execute_result"
    }
   ],
   "source": [
    "hank_pym.name_alias()"
   ]
  },
  {
   "cell_type": "code",
   "execution_count": 4,
   "metadata": {},
   "outputs": [
    {
     "data": {
      "text/plain": [
       "'http://marvel.wikia.com/Henry_Pym_(Earth-616)'"
      ]
     },
     "execution_count": 4,
     "metadata": {},
     "output_type": "execute_result"
    }
   ],
   "source": [
    "hank_pym.url()"
   ]
  },
  {
   "cell_type": "code",
   "execution_count": 5,
   "metadata": {},
   "outputs": [
    {
     "data": {
      "text/plain": [
       "True"
      ]
     },
     "execution_count": 5,
     "metadata": {},
     "output_type": "execute_result"
    }
   ],
   "source": [
    "hank_pym.is_current()"
   ]
  },
  {
   "cell_type": "code",
   "execution_count": 6,
   "metadata": {},
   "outputs": [
    {
     "data": {
      "text/plain": [
       "'MALE'"
      ]
     },
     "execution_count": 6,
     "metadata": {},
     "output_type": "execute_result"
    }
   ],
   "source": [
    "hank_pym.gender()"
   ]
  },
  {
   "cell_type": "code",
   "execution_count": 7,
   "metadata": {},
   "outputs": [
    {
     "data": {
      "text/plain": [
       "1963"
      ]
     },
     "execution_count": 7,
     "metadata": {},
     "output_type": "execute_result"
    }
   ],
   "source": [
    "hank_pym.year()"
   ]
  },
  {
   "cell_type": "code",
   "execution_count": 8,
   "metadata": {},
   "outputs": [
    {
     "data": {
      "text/plain": [
       "datetime.date(1963, 9, 1)"
      ]
     },
     "execution_count": 8,
     "metadata": {},
     "output_type": "execute_result"
    }
   ],
   "source": [
    "hank_pym.date_joined()"
   ]
  },
  {
   "cell_type": "code",
   "execution_count": 9,
   "metadata": {},
   "outputs": [
    {
     "data": {
      "text/plain": [
       "19874"
      ]
     },
     "execution_count": 9,
     "metadata": {},
     "output_type": "execute_result"
    }
   ],
   "source": [
    "hank_pym.days_since_joining()"
   ]
  },
  {
   "cell_type": "code",
   "execution_count": 10,
   "metadata": {},
   "outputs": [
    {
     "data": {
      "text/plain": [
       "54"
      ]
     },
     "execution_count": 10,
     "metadata": {},
     "output_type": "execute_result"
    }
   ],
   "source": [
    "hank_pym.years_since_joining()"
   ]
  },
  {
   "cell_type": "code",
   "execution_count": 11,
   "metadata": {},
   "outputs": [
    {
     "data": {
      "text/plain": [
       "'Merged with Ultron in Rage of Ultron Vol. 1. A funeral was held.'"
      ]
     },
     "execution_count": 11,
     "metadata": {},
     "output_type": "execute_result"
    }
   ],
   "source": [
    "hank_pym.notes()"
   ]
  },
  {
   "cell_type": "code",
   "execution_count": 12,
   "metadata": {},
   "outputs": [
    {
     "data": {
      "text/plain": [
       "'Henry Jonathan \"Hank\" Pym'"
      ]
     },
     "execution_count": 12,
     "metadata": {},
     "output_type": "execute_result"
    }
   ],
   "source": [
    "str(hank_pym)"
   ]
  }
 ],
 "metadata": {
  "kernelspec": {
   "display_name": "Python 3",
   "language": "python",
   "name": "python3"
  },
  "language_info": {
   "codemirror_mode": {
    "name": "ipython",
    "version": 3
   },
   "file_extension": ".py",
   "mimetype": "text/x-python",
   "name": "python",
   "nbconvert_exporter": "python",
   "pygments_lexer": "ipython3",
   "version": "3.6.4"
  }
 },
 "nbformat": 4,
 "nbformat_minor": 2
}

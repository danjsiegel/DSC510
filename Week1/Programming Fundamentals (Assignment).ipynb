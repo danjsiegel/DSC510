{
 "cells": [
  {
   "cell_type": "markdown",
   "metadata": {},
   "source": [
    "# Assignment 1 - Programming Fundamentals\n",
    "\n",
    "## Instructions\n",
    "\n",
    "With the exception of the first question (Introduce yourself), follow the instructions for submitting a Jupyter Notebook assignment in the submitting assignments documentation. "
   ]
  },
  {
   "cell_type": "markdown",
   "metadata": {},
   "source": [
    "## 1. Introduce yourself (6 Points)\n",
    "\n",
    "In a discussion board post, introduce yourself to the instructor and other students. Let everyone know if you have any prior experience with Python or any other programming languages. "
   ]
  },
  {
   "cell_type": "markdown",
   "metadata": {},
   "source": [
    "## 2. Programming Concepts (12 points)\n",
    "\n",
    "The following questions cover your comprehension of basic computer science and programming concepts.  Provide answers to each of the following using your own words.  "
   ]
  },
  {
   "cell_type": "markdown",
   "metadata": {},
   "source": [
    "### 2.1  (3 points)\n",
    "\n",
    "According to a [2017 Kaggle survey](https://www.kaggle.com/surveys/2017), 86.5% of data scientists said they used Python at work. By comparison, only 16.2% said they used Java and only 11.6% used C/C++.  Give three reasons why you think a data scientist would choose to use Python instead of Java or C/++.  \n"
   ]
  },
  {
   "cell_type": "markdown",
   "metadata": {},
   "source": [
    "### 2.2 (3 points)\n",
    "\n",
    "Give three reasons a data scientist might choose to use a language like C or Java instead of a language like Python or R. "
   ]
  },
  {
   "cell_type": "markdown",
   "metadata": {},
   "source": [
    "### 2.3 (3 points)\n",
    "\n",
    "What is the difference between a CPU and a GPU? What advantages does a CPU have over a GPU?  What advantages does a GPU have over a CPU? "
   ]
  },
  {
   "cell_type": "markdown",
   "metadata": {},
   "source": [
    "### 2.4 (3 points)\n",
    "\n",
    "Most programming languages, including Python, Java, C, and R, are *Turing-Complete*.  Using your own words, explain in a few sentences what it means for a programming language to be Turing-complete.  \n"
   ]
  },
  {
   "cell_type": "markdown",
   "metadata": {},
   "source": [
    "## 3. Programming Exercises (22 points)\n",
    "\n",
    "Use [An Informal Introduction to Python](https://docs.python.org/3/tutorial/introduction.html) as a guide in completing the following exercises. "
   ]
  },
  {
   "cell_type": "markdown",
   "metadata": {},
   "source": [
    "### 3.1 Create a Jupyter notebook (2 points)\n",
    "\n",
    "The programming exercises should be done in a single Jupyter notebook. Create a new Jupyter notebook and name it `DSC510 Assignment 1`. You will complete the rest of the programming exercieses in this notebook. "
   ]
  },
  {
   "cell_type": "markdown",
   "metadata": {},
   "source": [
    "### 3.4 Working with strings (7 points)\n",
    "\n",
    "1\\. Enter `Hello World!` as a string\n",
    "\n",
    "2\\.  Assign your first name to the variable `first_name` and your last name to the variable `last_name`. \n",
    "\n",
    "3\\.  Calculate the number of characters in your first name. \n",
    "\n",
    "4\\.  Using string indexing, get the first letter of your first name. \n",
    "\n",
    "5\\.  Using string indexing, get the last letter in your last name. \n",
    "\n",
    "6\\. See what happens when you add `first_name` and `last_name.`\n",
    "\n",
    "7\\.  See what happens when you multiply your `first_name` by an integer between 1 and 5.  \n"
   ]
  },
  {
   "cell_type": "markdown",
   "metadata": {},
   "source": [
    "### 3.5 Working with lists (5 points)\n",
    "\n",
    "1\\.  Create a list of numbers from 1 to 5 and assign it to the variable `L`.  \n",
    "\n",
    "2\\. Using list indexing, select the second item in the list.  \n",
    "\n",
    "3\\. Using slices, get a list containing only the 2nd, 3rd, and 4th numbers. \n",
    "\n",
    "4\\. Append a `6` to the end of the list. \n",
    "\n",
    "5\\. Using slices, replace the numbers 2 and 3 with 8 and 9.  \n"
   ]
  }
 ],
 "metadata": {
  "kernelspec": {
   "display_name": "Python 3",
   "language": "python",
   "name": "python3"
  },
  "language_info": {
   "codemirror_mode": {
    "name": "ipython",
    "version": 3
   },
   "file_extension": ".py",
   "mimetype": "text/x-python",
   "name": "python",
   "nbconvert_exporter": "python",
   "pygments_lexer": "ipython3",
   "version": "3.6.3"
  }
 },
 "nbformat": 4,
 "nbformat_minor": 2
}

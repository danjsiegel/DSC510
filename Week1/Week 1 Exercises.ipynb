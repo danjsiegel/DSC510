{
 "cells": [
  {
   "cell_type": "markdown",
   "metadata": {},
   "source": [
    "Programming Exercises\n",
    "---\n",
    "Dan Siegel\n",
    "DSC510"
   ]
  },
  {
   "cell_type": "markdown",
   "metadata": {},
   "source": [
    "-----"
   ]
  },
  {
   "cell_type": "markdown",
   "metadata": {},
   "source": [
    "Simple Calculations\n",
    "---"
   ]
  },
  {
   "cell_type": "code",
   "execution_count": 1,
   "metadata": {},
   "outputs": [
    {
     "data": {
      "text/plain": [
       "8"
      ]
     },
     "execution_count": 1,
     "metadata": {},
     "output_type": "execute_result"
    }
   ],
   "source": [
    "#1. Add two integers together\n",
    "4+4"
   ]
  },
  {
   "cell_type": "code",
   "execution_count": 4,
   "metadata": {},
   "outputs": [
    {
     "name": "stdout",
     "output_type": "stream",
     "text": [
      "This is the result with no order of operations:  34\n",
      "This is the result with parenthesis to show order of operations:  54\n"
     ]
    }
   ],
   "source": [
    "#2. Show how parenthesis changes the order of operations when using multiplication and addition together.\n",
    "noOrderOfOps = 4+5*6\n",
    "print(\"This is the result with no order of operations: \",noOrderOfOps)\n",
    "orderOfOps = (4+5)*6\n",
    "print(\"This is the result with parenthesis to show order of operations: \",orderOfOps)"
   ]
  },
  {
   "cell_type": "code",
   "execution_count": 8,
   "metadata": {},
   "outputs": [
    {
     "name": "stdout",
     "output_type": "stream",
     "text": [
      "This is a number squared 16\n",
      "This is a number cubed 64\n"
     ]
    }
   ],
   "source": [
    "#3. Show how to square and cube numbers.\n",
    "squared = 4**2\n",
    "print(\"This is a number squared\", squared)\n",
    "cubed = 4**3\n",
    "print(\"This is a number cubed\", cubed)"
   ]
  },
  {
   "cell_type": "code",
   "execution_count": 12,
   "metadata": {},
   "outputs": [
    {
     "name": "stdout",
     "output_type": "stream",
     "text": [
      "this is var2 minus var1: 1\n"
     ]
    }
   ],
   "source": [
    "#4. Assign numbers to variables and then perform mathematical operations (e.g., add, subtract, multiply) using the variables.\n",
    "var1 = 5\n",
    "var2 = 6\n",
    "print(\"this is var2 minus var1:\", (var2-var1))"
   ]
  },
  {
   "cell_type": "code",
   "execution_count": 14,
   "metadata": {},
   "outputs": [
    {
     "name": "stdout",
     "output_type": "stream",
     "text": [
      "3.14159265\n",
      "3.14\n"
     ]
    }
   ],
   "source": [
    "#5. Set the variable pi = 3.14159265 and then round it to two decimal places.\n",
    "pi = 3.14159265\n",
    "print(pi)\n",
    "pi=round(pi,2)\n",
    "print(pi)"
   ]
  },
  {
   "cell_type": "code",
   "execution_count": 15,
   "metadata": {},
   "outputs": [
    {
     "ename": "ZeroDivisionError",
     "evalue": "division by zero",
     "traceback": [
      "\u001b[1;31m---------------------------------------------------------------------------\u001b[0m",
      "\u001b[1;31mZeroDivisionError\u001b[0m                         Traceback (most recent call last)",
      "\u001b[1;32m<ipython-input-15-7e0153178f06>\u001b[0m in \u001b[0;36m<module>\u001b[1;34m()\u001b[0m\n\u001b[0;32m      1\u001b[0m \u001b[1;31m#6. See what happens when you try to divide a number by 0.\u001b[0m\u001b[1;33m\u001b[0m\u001b[1;33m\u001b[0m\u001b[0m\n\u001b[1;32m----> 2\u001b[1;33m \u001b[1;36m5\u001b[0m\u001b[1;33m/\u001b[0m\u001b[1;36m0\u001b[0m\u001b[1;33m\u001b[0m\u001b[0m\n\u001b[0m",
      "\u001b[1;31mZeroDivisionError\u001b[0m: division by zero"
     ],
     "output_type": "error"
    }
   ],
   "source": [
    "#6. See what happens when you try to divide a number by 0.\n",
    "5/0"
   ]
  },
  {
   "cell_type": "code",
   "execution_count": 18,
   "metadata": {},
   "outputs": [
    {
     "name": "stdout",
     "output_type": "stream",
     "text": [
      "adding an int and a fp number results in an fp number ie: 10.0\n"
     ]
    }
   ],
   "source": [
    "#7. Add an integer and a floating point number. Is the result a floating point number or an integer?\n",
    "print(\"adding an int and a fp number results in an fp number ie:\",5+5.0)\n"
   ]
  },
  {
   "cell_type": "code",
   "execution_count": 20,
   "metadata": {},
   "outputs": [
    {
     "name": "stdout",
     "output_type": "stream",
     "text": [
      "The remainder, or modulus of 5/2 is: 1\n"
     ]
    }
   ],
   "source": [
    "#8. Compute the remainder of an odd number when divided by 2.\n",
    "print(\"The remainder, or modulus of 5/2 is:\",5%2)"
   ]
  },
  {
   "cell_type": "markdown",
   "metadata": {},
   "source": [
    "Working with strings\n",
    "---\n"
   ]
  },
  {
   "cell_type": "markdown",
   "metadata": {},
   "source": [
    "---"
   ]
  },
  {
   "cell_type": "code",
   "execution_count": null,
   "metadata": {
    "collapsed": true
   },
   "outputs": [],
   "source": []
  }
 ],
 "metadata": {
  "kernelspec": {
   "display_name": "Python 3",
   "language": "python",
   "name": "python3"
  },
  "language_info": {
   "codemirror_mode": {
    "name": "ipython",
    "version": 3
   },
   "file_extension": ".py",
   "mimetype": "text/x-python",
   "name": "python",
   "nbconvert_exporter": "python",
   "pygments_lexer": "ipython3",
   "version": "3.6.3"
  }
 },
 "nbformat": 4,
 "nbformat_minor": 2
}

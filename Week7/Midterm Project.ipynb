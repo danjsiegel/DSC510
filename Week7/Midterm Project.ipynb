{
 "cells": [
  {
   "cell_type": "markdown",
   "metadata": {},
   "source": [
    "# Midterm Project (400 Points)\n",
    "\n",
    "For the midterm project, you will be combining your knowledge and work on previous assignments and lessons into a simple, but complete data science project.  "
   ]
  },
  {
   "cell_type": "markdown",
   "metadata": {},
   "source": [
    "## Project Description\n",
    "\n",
    "The midterm project should follow the directory structure shown below.  You will be responsible for implementing each of the scripts, ensuring that they work correctly, and generating any necessary data and reports. \n",
    "\n",
    "```nohighlight\n",
    "msds510/                              <- Top-level project directory\n",
    "├── data\n",
    "│   ├── processed\n",
    "│   │   └── avengers_processed.csv    <- UTF-8 encoded CSV with Python friendly headers\n",
    "│   └── raw\n",
    "│       └── avengers.csv              <- Original `avengers.csv` data. \n",
    "├── reports\n",
    "│   └── top_ten_appearances.md        <- Markdown report of the top 10 Avengers\n",
    "└── src\n",
    "    ├── make_report.py                <- Script to make a report of top 10 Avengers\n",
    "    ├── msds510                       <- Package name for project specific code. \n",
    "    │   ├── __init__.py\n",
    "    │   └── util.py                   <- Place in helper functions used to process records\n",
    "    └── process_csv.py                <- Script to process the original CSV data\n",
    "```"
   ]
  },
  {
   "cell_type": "markdown",
   "metadata": {},
   "source": [
    "## Detailed Requirements\n",
    "\n",
    "### Script and Python Code\n",
    "\n",
    "1. Running `python process_csv.py  ../data/raw/avengers.csv ../data/processed/avengers_processed.csv` should generate a processed CSV file. \n",
    "2. Running `python make_report.py ../data/processed/avengers_processed.csv ../reports/top_ten_appearances.md` should generate a Markdown formatted report of the top ten Avengers by the number of their appearances. \n",
    "3. The scripts should implement a `main` function and implement `if __name__ == '__main__'` statement as shown in [Top-level script environment](https://docs.python.org/3/library/__main__.html) documentation. \n",
    "4. Implement any helper functions in the `msds510.util` module.  The scripts should only define one top-level function called `main`.  \n",
    "5. While you cannot use any third-party packages to complete this project, you are encouraged to use the Python Standard Library.  It is recommended that consider using the following: \n",
    "    1. `DictReader` and `DictWriter` from the `csv` module to process CSV files. \n",
    "    2. `date` and `timedelta` from the `datetime` module to work with dates. \n",
    "    3. `argv` from the `sys` module to process command line arguments. "
   ]
  },
  {
   "cell_type": "markdown",
   "metadata": {},
   "source": [
    "### Processing CSV Data\n",
    "\n",
    "Below are the requirements for the `avengers_processed.csv` file.  \n",
    "\n",
    "1. The first row should contain a header with Python friendly names. \n",
    "2. The data should contain a `month_joined` field with the numeric month (e.g. 1 - January, 5 - May, 12 - December) the person joined the Avengers. This field should be empty if the information is not available. \n",
    "3. Trim any trailing whitespace (e.g. newlines and spaces) from the `notes` field. \n",
    "4. Convert `YES/NO` values to boolean `True/False` values. "
   ]
  },
  {
   "cell_type": "markdown",
   "metadata": {},
   "source": [
    "### Markdown Report\n",
    "\n",
    "Markdown is a lightweight markup language for generating documentation without having to learn a complicated language like *HTML* or *LaTeX*.  It is relatively easy to generate Markdown reports from Python scripts and then convert them into *html*, *pdf*, *docx* and other formats. \n",
    "\n",
    "For this project, you will not need to understand the details of Markdown.  You will just need to generate text that conforms to a template.  \n",
    "\n",
    "Your Markdown report will contain a list of the top ten Avengers sorted by the number of appearances.  Each section should use the following template. \n",
    "\n",
    "```\n",
    "# {rank}. {name}\n",
    "\n",
    "* Number of Appearances: {appearances}\n",
    "* Year Joined: {year}\n",
    "* Years Since Joining: {years_since_joining}\n",
    "* URL : {url}\n",
    "\n",
    "## Notes\n",
    "\n",
    "{notes}\n",
    "```\n",
    "\n",
    "Here is an example with the values filled in.  This should be similar to what is output in your report.  *Note*: Do not use the data from this example (e.g., rank, years joined, etc...) in your report.  The rank and other values may not accurately reflect the underlying data. \n",
    "\n",
    "\n",
    "```nohighlight\n",
    "# 8.  Henry Jonathan \"Hank\" Pym\n",
    "\n",
    "* Number of Appearances: 1269\n",
    "* Year Joined: 1963\n",
    "* Years Since Joining: 55\n",
    "* URL: http://marvel.wikia.com/Henry_Pym_(Earth-616)\n",
    "\n",
    "## Notes\n",
    "\n",
    "Merged with Ultron in Rage of Ultron Vol. 1. A funeral was held.\n",
    "```"
   ]
  },
  {
   "cell_type": "markdown",
   "metadata": {},
   "source": [
    "When completed your entire report it should contain a section like that for each of the top ten Avengers.  Your completed report should look something like this. \n",
    "\n",
    "```\n",
    "# 1. Name of Number One Avenger\n",
    "\n",
    "* Number of Appearances: 9000\n",
    "* Year Joined: 1952\n",
    "* Years Since Joining: 89\n",
    "* URL: http://marvel.wikia.com/That_Guy\n",
    "\n",
    "## Notes\n",
    "\n",
    "These are not real notes.  This is just an example. \n",
    "\n",
    "# 2. Name of Number Two Avenger\n",
    "\n",
    "...\n",
    "\n",
    "# 3. Name of Number Three Avenger\n",
    "\n",
    ". \n",
    ". \n",
    ".\n",
    "\n",
    "\n",
    "# 10.  Name of Number Ten Avenger\n",
    "\n",
    "...\n",
    "```"
   ]
  }
 ],
 "metadata": {
  "kernelspec": {
   "display_name": "Python 3",
   "language": "python",
   "name": "python3"
  },
  "language_info": {
   "codemirror_mode": {
    "name": "ipython",
    "version": 3
   },
   "file_extension": ".py",
   "mimetype": "text/x-python",
   "name": "python",
   "nbconvert_exporter": "python",
   "pygments_lexer": "ipython3",
   "version": "3.6.4"
  }
 },
 "nbformat": 4,
 "nbformat_minor": 2
}

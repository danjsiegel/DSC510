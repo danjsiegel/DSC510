{
 "cells": [
  {
   "cell_type": "markdown",
   "metadata": {},
   "source": [
    "# Assignment 4 - Statements and Syntax\n",
    "\n",
    "## Instructions\n",
    "\n",
    "In this assignment, we will continue working with the `avengers.csv`.  Copy over the `avengers_utf8.csv` you created in the last exercise to the working directory of this notebook. Open up `avengers_utf8.csv` and assign the lines to the `lines` variable. \n",
    "\n",
    "Follow the instructions for submitting a Jupyter Notebook assignment in the submitting assignments documentation. "
   ]
  },
  {
   "cell_type": "markdown",
   "metadata": {},
   "source": [
    "## 1. Convert lines to rows (5 points)\n",
    "\n",
    "Using a `for` statement, loop through the `lines` sequence and process each line into a row and add each processed row to the `rows` list.  For the purposes of this assignment, a row is a list of values that results from splitting each line by its delimiter (in this case a comma).  As an example, if the line input is `'1,2,apple,pear'`, then row output is `['1', '2', 'apple', 'pear']`.  Do not worry about converting values or cleaning up the input data at this point. \n",
    "\n",
    "\n",
    "<div class=\"alert alert-info\">\n",
    "**Note**: In this data set, there is one record that contains extra commas.  This happens when commas are used to separate the fields and commas are used within the some of the data values.  In this case, the `url` field for this record is `\"...Nicholas_Fury,_Jr._(Earth-616)#\"` and the `name_alias` field is `\"Nicholas Fury, Jr., Marcus Johnson\"`. These values are both enclosed with quote characters, which means we should not treat the commas inside the quotes as field separators.  In later assignments, we will implement code to handle escaped commas, but for now we will ignore this field.   \n",
    "</div>\n",
    "\n",
    "A normal row should contain 21 values.  Only add a row to the `rows` list if it contains 21 values. "
   ]
  },
  {
   "cell_type": "markdown",
   "metadata": {},
   "source": [
    "## 2. Create a header with Python friendly names (5 points)\n",
    "\n",
    "In the second step, create a header with Python friendly names.  These names will be used to create a dictionary based record.  When creating the names, convert the original name to a new name using the following rules.  Assign the new header names to the `fieldnames` variable.  \n",
    "\n",
    "1. The new name should only use lower case letters, numbers, and underscores.\n",
    "2. Replace spaces and slashes with underscores. \n",
    "3. Strip trailing question marks and newlines.  "
   ]
  },
  {
   "cell_type": "markdown",
   "metadata": {},
   "source": [
    "## 3. Create dict-based records (10 points)\n",
    "\n",
    "Using the `fieldnames` and `rows` variables from the last two parts, create `records` which contain Python dictionaries with the field names assigned to the appropriate values. "
   ]
  },
  {
   "cell_type": "markdown",
   "metadata": {},
   "source": [
    "## 4. Convert record values to appropriate types (10 points)\n",
    "\n",
    "Using a for loop, iterate through each record and convert each record value to the appropriate type.  Additionally, make sure to update the `years_since_joining` value to the current year. If the value does not need to be converted, strip any trailing spaces or newlines. "
   ]
  },
  {
   "cell_type": "markdown",
   "metadata": {},
   "source": [
    "# 5. Filtering Records (10 points)\n",
    "\n",
    "Using a list comprehension, get the records for those Avengers with over 3000 appearances. Assign the output to the `over3000` variable. \n",
    "\n",
    "Use this to print the name and number of appearances for those Avengers.  When printing the names, some names may contain extra quotes.  Strip the `\"` around the entire name and replace double quotes (`\"\"`) with a single quote (`\"`)."
   ]
  }
 ],
 "metadata": {
  "kernelspec": {
   "display_name": "Python 3",
   "language": "python",
   "name": "python3"
  },
  "language_info": {
   "codemirror_mode": {
    "name": "ipython",
    "version": 3
   },
   "file_extension": ".py",
   "mimetype": "text/x-python",
   "name": "python",
   "nbconvert_exporter": "python",
   "pygments_lexer": "ipython3",
   "version": "3.6.3"
  }
 },
 "nbformat": 4,
 "nbformat_minor": 2
}

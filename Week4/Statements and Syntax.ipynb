{
 "cells": [
  {
   "cell_type": "markdown",
   "metadata": {},
   "source": [
    "# Statements and Syntax\n",
    "\n",
    "This next lesson introduces you to the basics of Python's syntax and statements.  This includes learning about how to use *for* and *while* loops to iterate through data and to use conditional *if/elif/else* statements to process data depending on whether or not a value meets a certain condition. \n",
    "\n",
    "\n",
    "## Assigned Reading and Viewing\n",
    "\n",
    "* Read Chapters 10 to 14 in *Learning Python*"
   ]
  }
 ],
 "metadata": {
  "kernelspec": {
   "display_name": "Python 3",
   "language": "python",
   "name": "python3"
  },
  "language_info": {
   "codemirror_mode": {
    "name": "ipython",
    "version": 3
   },
   "file_extension": ".py",
   "mimetype": "text/x-python",
   "name": "python",
   "nbconvert_exporter": "python",
   "pygments_lexer": "ipython3",
   "version": "3.6.1"
  }
 },
 "nbformat": 4,
 "nbformat_minor": 2
}
